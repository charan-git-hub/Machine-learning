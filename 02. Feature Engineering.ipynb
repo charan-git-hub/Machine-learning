{
 "cells": [
  {
   "cell_type": "markdown",
   "id": "6194e233-c783-429d-a7fb-57059b46349f",
   "metadata": {},
   "source": [
    "## Feature Engineering for Machine Learning"
   ]
  },
  {
   "cell_type": "markdown",
   "id": "c3459553-83ad-464e-9bd8-7a18b5bffb9a",
   "metadata": {},
   "source": [
    "- Feature engineering is the pre-processing step of machine learning, which is used to transform raw data into features that can be used for creating a predictive model using Machine learning or statistical Modelling.\n",
    "\n",
    "-  Feature engineering in machine learning aims to improve the performance of models.\n",
    "\n",
    "Feature engineering is the process of using domain knowledge to select, modify, or create features (variables) that help improve the performance of machine learning models. It is a critical step in the machine learning pipeline that involves:\n",
    "\n",
    "- Enhancing the signal in the data to make patterns more discernible for the algorithm.\n",
    "  \n",
    "- Reducing noise to prevent overfitting.\n",
    "  \n",
    "- Enabling models to learn from the data more effectively."
   ]
  },
  {
   "cell_type": "markdown",
   "id": "48752d0c-5c16-45dc-a503-f9b25a131399",
   "metadata": {},
   "source": [
    "## What is a feature?"
   ]
  },
  {
   "cell_type": "markdown",
   "id": "85931546-0605-4136-839e-870db704b7b3",
   "metadata": {},
   "source": [
    "- Feature engineering is the pre-processing step of machine learning, which extracts features from raw data.\n",
    "\n",
    "- It helps to represent an underlying problem to predictive models in a better way, which as a result, improve the accuracy of the model for unseen data.\n",
    "\n",
    "- The predictive model contains predictor variables and an outcome variable, and while the feature engineering process selects the most useful predictor variables for the model."
   ]
  },
  {
   "attachments": {
    "a69711e0-1201-4c37-a895-103d3d702d42.png": {
     "image/png": "[encoded data removed]"
    }
   },
   "cell_type": "markdown",
   "id": "c7d252df-4f1b-4e55-823e-e4439aeb0c41",
   "metadata": {},
   "source": [
    "![feature-engineering-for-machine-learning2.png](attachment:a69711e0-1201-4c37-a895-103d3d702d42.png)"
   ]
  },
  {
   "cell_type": "markdown",
   "id": "7ae46a52-5e9c-4408-b308-73d8e08fd623",
   "metadata": {},
   "source": [
    "## Why Feature Engineering so Important?"
   ]
  },
  {
   "cell_type": "markdown",
   "id": "6108d08f-037f-4e0b-b899-26de5a19b4fd",
   "metadata": {},
   "source": [
    "In the machine learning process, feature selection is used to make the process more accurate. It also increases the prediction power of the algorithms by selecting the most critical variables and eliminating the redundant and irrelevant ones. This is why feature selection is important.\n",
    "\n",
    "Three key benefits of feature selection are:\n",
    "\n",
    "**1.Decreases over-fitting**\n",
    "\n",
    "- Fewer redundant data means fewer chances of making decisions based on noise.\n",
    "\n",
    "  \n",
    "**2.Improves Accuracy**\n",
    "\n",
    "- Less misleading data means better modeling accuracy.\n",
    "\n",
    "**3.Reduces Training Time**\n",
    "\n",
    "- Less data means quicker algorithms.rithms."
   ]
  },
  {
   "cell_type": "markdown",
   "id": "bb52bb53-62fd-422f-b366-6e6c994fb164",
   "metadata": {},
   "source": [
    "## Benufuts of Feature Engineering"
   ]
  },
  {
   "cell_type": "markdown",
   "id": "f4542e92-7d31-4bac-a284-ec9360d66264",
   "metadata": {},
   "source": [
    "- **Improves Model Accuracy**: Helps the model identify patterns, leading to better predictions.\n",
    "\n",
    "- **Reduces Overfitting**: Eliminates noisy or irrelevant features, ensuring the model focuses on meaningful data.\n",
    "\n",
    "- **Enhances Generalization**: Creates features that enable the model to perform well on unseen data.\n",
    "\n",
    "- **Boosts Interpretability**: Simplifies features, making models easier to understand and explain.\n",
    "\n",
    "- **Handles Data Issues**: Addresses problems like missing values, outliers, or imbalances to improve data usability.\n",
    "\n",
    "- **Optimizes Performance**: Reduces training time and computational costs by focusing on relevant features."
   ]
  },
  {
   "cell_type": "markdown",
   "id": "aaa281cd-50e7-4653-b354-e60bcc338510",
   "metadata": {},
   "source": [
    "## Feature Engineering Techniques"
   ]
  },
  {
   "cell_type": "markdown",
   "id": "2c87b93f-3de0-492d-83ee-6aa58f71de17",
   "metadata": {},
   "source": [
    "Feature Engineering Techniques:\n",
    "\n",
    " - 1.Imputation\n",
    " \n",
    " - 2.Handiling Outliers\n",
    "\n",
    " - 3.Transformation\n",
    " \n",
    " - 4.One-Hot Encoding\n",
    "   \n",
    " - 5. End-of Tail Imputation\n",
    "      \n",
    " - 6. Arbitary value Imputation\n",
    "  \n",
    " - 7. Feature selection"
   ]
  },
  {
   "cell_type": "markdown",
   "id": "9410360f-0648-4795-9635-33ea9db849f6",
   "metadata": {},
   "source": [
    "## Black Box vs. White Box in Machine Learning\n",
    "\n",
    "### 1.Black Box Models\n",
    "\n",
    "- **Definition:** Models whose internal workings are not easily interpretable or understandable by humans.\n",
    "- **Examples:**\n",
    "  - Neural Networks (e.g., CNNs, RNNs)\n",
    "  - Ensemble Models (e.g., Random Forests, Gradient Boosting Machines)\n",
    "- **Characteristics:**\n",
    "  - **Complexity:** High complexity and non-linear relationships.\n",
    "  - **Transparency:** Low interpretability.\n",
    "  - **Performance:** High accuracy on complex problems.\n",
    "- **Use Cases:**\n",
    "  - Image recognition\n",
    "  - Natural language processing\n",
    "- **Limitations:**\n",
    "  - Hard to explain decisions.\n",
    "  - Challenging to use in regulated domains.\n",
    "\n",
    "---\n",
    "\n",
    "### 2.White Box Models\n",
    "- **Definition:** Models that are interpretable and transparent, allowing users to understand their decision-making process.\n",
    "- **Examples:**\n",
    "  - Linear Regression\n",
    "  - Logistic Regression\n",
    "  - Decision Trees\n",
    "- **Characteristics:**\n",
    "  - **Simplicity:** Relatively simple and interpretable.\n",
    "  - **Transparency:** High interpretability.\n",
    "  - **Performance:** May not handle complex problems as well as black-box models.\n",
    "- **Use Cases:**\n",
    "  - Credit scoring\n",
    "  - Medical diagnoses\n",
    "- **Limitations:**\n",
    "  - Lower performance for complex relationships.\n",
    "\n",
    "---\n",
    "\n",
    "### Key Comparison\n",
    "\n",
    "| **Aspect**           | **Black Box**                       | **White Box**                     |\n",
    "|-----------------------|-------------------------------------|-----------------------------------|\n",
    "| **Interpretability**  | Low                                 | High                              |\n",
    "| **Complexity**        | High                                | Low                               |\n",
    "| **Accuracy**          | Often high for complex problems     | May be lower for complex problems |\n",
    "| **Examples**          | Neural Networks, Random Forests     | Linear Regression, Decision Trees |\n",
    "| **Use Case**          | Complex, high-stakes predictions    | Transparent decision-making       |\n",
    "\n",
    "---\n",
    "\n",
    "### Bridging the Gap\n",
    "To explain black-box models:\n",
    "- Use **SHAP** (SHapley Additive exPlanations).\n",
    "- Apply **LIME** (Local Interpretable Model-Agnostic Explanations).\n",
    "- Examine **Feature Importance**.\n",
    "- Visualize with **Partial Dependence Plots (PDP)**."
   ]
  },
  {
   "cell_type": "markdown",
   "id": "c7948922-f6a6-475b-83c2-80774d3e3678",
   "metadata": {},
   "source": [
    "## Types of Missing Data\n",
    "\n",
    "### 1. Missing Completely at Random (MCAR)\n",
    "- **Definition:** Missing values occur entirely at random and are not related to any other variables in the dataset.\n",
    "- **Characteristics:**\n",
    "  - No systematic relationship between the missing data and any observed or unobserved data.\n",
    "  - Example: A survey respondent accidentally skips a question due to a technical issue.\n",
    "- **Impact:** Analysis remains unbiased if handled appropriately (e.g., ignoring or imputing values).\n",
    "\n",
    "---\n",
    "\n",
    "### 2. Missing at Random (MAR)\n",
    "- **Definition:** Missing values are related to other observed data but not the missing variable itself.\n",
    "- **Characteristics:**\n",
    "  - The probability of missingness can be explained by other variables in the dataset.\n",
    "  - Example: Missing income data might be dependent on education level (e.g., individuals with lower education levels are less likely to disclose income).\n",
    "- **Impact:** Requires more sophisticated imputation methods, like regression or machine learning, to address the missingness.\n",
    "\n",
    "---\n",
    "\n",
    "### 3. Missing Not at Random (MNAR)\n",
    "- **Definition:** Missing values are related to the value of the missing variable itself or to unobserved data.\n",
    "- **Characteristics:**\n",
    "  - The missingness depends on the variable with missing data.\n",
    "  - Example: People with very high or very low incomes might be less likely to report their income, making the missingness directly dependent on the income variable.\n",
    "- **Impact:** Can lead to biased analysis and is the most challenging type to handle. Requires domain knowledge or external data to address.\n",
    "\n",
    "---\n",
    "\n",
    "## Comparison Table\n",
    "\n",
    "| **Type**      | **Definition**                                               | **Example**                                                                 | **Impact**                             |\n",
    "|---------------|-------------------------------------------------------------|-----------------------------------------------------------------------------|---------------------------------------|\n",
    "| **MCAR**      | Missing values occur randomly and are unrelated to any data. | A survey question skipped due to a technical glitch.                        | Analysis remains unbiased if handled. |\n",
    "| **MAR**       | Missing values are related to observed variables.           | Income missing, but correlated with education level.                        | Needs imputation using related data.  |\n",
    "| **MNAR**      | Missing values are related to unobserved or missing data.    | High-income individuals not reporting income.                              | Can lead to biased results.           |\n",
    "\n",
    "---\n",
    "\n",
    "### Handling Missing Data\n",
    "1. **MCAR:**\n",
    "   - Remove rows/columns with missing values.\n",
    "   - Impute missing values (e.g., mean, median, or mode).\n",
    "2. **MAR:**\n",
    "   - Use advanced imputation techniques (e.g., regression, KNN, or ML-based methods).\n",
    "3. **MNAR:**\n",
    "   - Use domain knowledge or external data sources.\n",
    "   - Apply specialized modeling approaches (e.g., sensitivity analysis or missing data modeling).\n",
    "\n"
   ]
  },
  {
   "cell_type": "markdown",
   "id": "2f24cd7d-5af2-4236-9eec-441a60137669",
   "metadata": {},
   "source": [
    "# Feature Engineering Techniques"
   ]
  },
  {
   "cell_type": "markdown",
   "id": "d10a7c18-0be9-4de0-b634-19fd6310d986",
   "metadata": {},
   "source": [
    "## 1. Imputation"
   ]
  },
  {
   "cell_type": "markdown",
   "id": "78af43c8-9486-4a4d-b3a0-858798d50c31",
   "metadata": {},
   "source": [
    "- Feature engineering deals with inappropriate data, missing values, human interruption, general errors, insufficient data sources, etc. Missing values within the dataset highly affect the performance of the algorithm, and to deal with them \"Imputation\" technique is used. **Imputation is responsible for handling irregularities within the dataset**.\n",
    "\n",
    "- For example, removing the missing values from the complete row or complete column by a huge percentage of missing values. But at the same time, to maintain the data size, it is required to impute the missing data, which can be done as:\r\n",
    "- \r\n",
    "For numerical data imputation, a default value can be imputed in a column, and missing values can be filled with means or medians of the column\n",
    "\n",
    "- .\r\n",
    "For categorical data imputation, missing values can be interchanged with the maximum occurred value in a column."
   ]
  },
  {
   "cell_type": "code",
   "execution_count": 1,
   "id": "33915419-5b5b-4c09-abcf-53b2fd329ab3",
   "metadata": {},
   "outputs": [],
   "source": [
    "import pandas as pd\n",
    "import numpy as np\n",
    "import matplotlib.pyplot as  plt\n",
    "%matplotlib inline"
   ]
  },
  {
   "cell_type": "code",
   "execution_count": 2,
   "id": "3cec6412-f89e-46dd-a5e9-a4cb2cd460a5",
   "metadata": {},
   "outputs": [
    {
     "name": "stdout",
     "output_type": "stream",
     "text": [
      "Requirement already satisfied: scikit-learn in c:\\users\\devad\\appdata\\local\\programs\\python\\python312\\lib\\site-packages (1.6.0)\n",
      "Requirement already satisfied: numpy>=1.19.5 in c:\\users\\devad\\appdata\\local\\programs\\python\\python312\\lib\\site-packages (from scikit-learn) (2.1.3)\n",
      "Requirement already satisfied: scipy>=1.6.0 in c:\\users\\devad\\appdata\\local\\programs\\python\\python312\\lib\\site-packages (from scikit-learn) (1.14.1)\n",
      "Requirement already satisfied: joblib>=1.2.0 in c:\\users\\devad\\appdata\\local\\programs\\python\\python312\\lib\\site-packages (from scikit-learn) (1.4.2)\n",
      "Requirement already satisfied: threadpoolctl>=3.1.0 in c:\\users\\devad\\appdata\\local\\programs\\python\\python312\\lib\\site-packages (from scikit-learn) (3.5.0)\n"
     ]
    }
   ],
   "source": [
    "!pip install scikit-learn"
   ]
  },
  {
   "cell_type": "code",
   "execution_count": 3,
   "id": "81d8542d-87f9-4099-96d3-245dfd57743c",
   "metadata": {},
   "outputs": [],
   "source": [
    "# to split standarize the datasets\n",
    "from sklearn.model_selection import train_test_split\n",
    "from sklearn.preprocessing import StandardScaler\n",
    "\n",
    "# to evalute regression models\n",
    "from sklearn.metrics import mean_squared_error\n",
    "\n",
    "# to evalute classification models\n",
    "from sklearn.metrics import roc_auc_score\n",
    "\n",
    "\n",
    "import warnings\n",
    "warnings.filterwarnings('ignore')"
   ]
  },
  {
   "cell_type": "code",
   "execution_count": 4,
   "id": "b51f03e1-5c10-46d6-a0de-f580c6f2afaa",
   "metadata": {},
   "outputs": [],
   "source": [
    "data = pd.read_csv(r\"C:\\Users\\devad\\Downloads\\titanic.csv\")"
   ]
  },
  {
   "cell_type": "code",
   "execution_count": 5,
   "id": "c309ebf1-19e3-4be9-a1b9-7ccd88ae06a7",
   "metadata": {},
   "outputs": [
    {
     "data": {
      "text/html": [
       "<div>\n",
       "<style scoped>\n",
       "    .dataframe tbody tr th:only-of-type {\n",
       "        vertical-align: middle;\n",
       "    }\n",
       "\n",
       "    .dataframe tbody tr th {\n",
       "        vertical-align: top;\n",
       "    }\n",
       "\n",
       "    .dataframe thead th {\n",
       "        text-align: right;\n",
       "    }\n",
       "</style>\n",
       "<table border=\"1\" class=\"dataframe\">\n",
       "  <thead>\n",
       "    <tr style=\"text-align: right;\">\n",
       "      <th></th>\n",
       "      <th>PassengerId</th>\n",
       "      <th>Survived</th>\n",
       "      <th>Pclass</th>\n",
       "      <th>Name</th>\n",
       "      <th>Sex</th>\n",
       "      <th>Age</th>\n",
       "      <th>SibSp</th>\n",
       "      <th>Parch</th>\n",
       "      <th>Ticket</th>\n",
       "      <th>Fare</th>\n",
       "      <th>Cabin</th>\n",
       "      <th>Embarked</th>\n",
       "    </tr>\n",
       "  </thead>\n",
       "  <tbody>\n",
       "    <tr>\n",
       "      <th>0</th>\n",
       "      <td>1</td>\n",
       "      <td>0</td>\n",
       "      <td>3</td>\n",
       "      <td>Braund, Mr. Owen Harris</td>\n",
       "      <td>male</td>\n",
       "      <td>22.0</td>\n",
       "      <td>1</td>\n",
       "      <td>0</td>\n",
       "      <td>A/5 21171</td>\n",
       "      <td>7.2500</td>\n",
       "      <td>NaN</td>\n",
       "      <td>S</td>\n",
       "    </tr>\n",
       "    <tr>\n",
       "      <th>1</th>\n",
       "      <td>2</td>\n",
       "      <td>1</td>\n",
       "      <td>1</td>\n",
       "      <td>Cumings, Mrs. John Bradley (Florence Briggs Th...</td>\n",
       "      <td>female</td>\n",
       "      <td>38.0</td>\n",
       "      <td>1</td>\n",
       "      <td>0</td>\n",
       "      <td>PC 17599</td>\n",
       "      <td>71.2833</td>\n",
       "      <td>C85</td>\n",
       "      <td>C</td>\n",
       "    </tr>\n",
       "    <tr>\n",
       "      <th>2</th>\n",
       "      <td>3</td>\n",
       "      <td>1</td>\n",
       "      <td>3</td>\n",
       "      <td>Heikkinen, Miss. Laina</td>\n",
       "      <td>female</td>\n",
       "      <td>26.0</td>\n",
       "      <td>0</td>\n",
       "      <td>0</td>\n",
       "      <td>STON/O2. 3101282</td>\n",
       "      <td>7.9250</td>\n",
       "      <td>NaN</td>\n",
       "      <td>S</td>\n",
       "    </tr>\n",
       "    <tr>\n",
       "      <th>3</th>\n",
       "      <td>4</td>\n",
       "      <td>1</td>\n",
       "      <td>1</td>\n",
       "      <td>Futrelle, Mrs. Jacques Heath (Lily May Peel)</td>\n",
       "      <td>female</td>\n",
       "      <td>35.0</td>\n",
       "      <td>1</td>\n",
       "      <td>0</td>\n",
       "      <td>113803</td>\n",
       "      <td>53.1000</td>\n",
       "      <td>C123</td>\n",
       "      <td>S</td>\n",
       "    </tr>\n",
       "    <tr>\n",
       "      <th>4</th>\n",
       "      <td>5</td>\n",
       "      <td>0</td>\n",
       "      <td>3</td>\n",
       "      <td>Allen, Mr. William Henry</td>\n",
       "      <td>male</td>\n",
       "      <td>35.0</td>\n",
       "      <td>0</td>\n",
       "      <td>0</td>\n",
       "      <td>373450</td>\n",
       "      <td>8.0500</td>\n",
       "      <td>NaN</td>\n",
       "      <td>S</td>\n",
       "    </tr>\n",
       "    <tr>\n",
       "      <th>...</th>\n",
       "      <td>...</td>\n",
       "      <td>...</td>\n",
       "      <td>...</td>\n",
       "      <td>...</td>\n",
       "      <td>...</td>\n",
       "      <td>...</td>\n",
       "      <td>...</td>\n",
       "      <td>...</td>\n",
       "      <td>...</td>\n",
       "      <td>...</td>\n",
       "      <td>...</td>\n",
       "      <td>...</td>\n",
       "    </tr>\n",
       "    <tr>\n",
       "      <th>886</th>\n",
       "      <td>887</td>\n",
       "      <td>0</td>\n",
       "      <td>2</td>\n",
       "      <td>Montvila, Rev. Juozas</td>\n",
       "      <td>male</td>\n",
       "      <td>27.0</td>\n",
       "      <td>0</td>\n",
       "      <td>0</td>\n",
       "      <td>211536</td>\n",
       "      <td>13.0000</td>\n",
       "      <td>NaN</td>\n",
       "      <td>S</td>\n",
       "    </tr>\n",
       "    <tr>\n",
       "      <th>887</th>\n",
       "      <td>888</td>\n",
       "      <td>1</td>\n",
       "      <td>1</td>\n",
       "      <td>Graham, Miss. Margaret Edith</td>\n",
       "      <td>female</td>\n",
       "      <td>19.0</td>\n",
       "      <td>0</td>\n",
       "      <td>0</td>\n",
       "      <td>112053</td>\n",
       "      <td>30.0000</td>\n",
       "      <td>B42</td>\n",
       "      <td>S</td>\n",
       "    </tr>\n",
       "    <tr>\n",
       "      <th>888</th>\n",
       "      <td>889</td>\n",
       "      <td>0</td>\n",
       "      <td>3</td>\n",
       "      <td>Johnston, Miss. Catherine Helen \"Carrie\"</td>\n",
       "      <td>female</td>\n",
       "      <td>NaN</td>\n",
       "      <td>1</td>\n",
       "      <td>2</td>\n",
       "      <td>W./C. 6607</td>\n",
       "      <td>23.4500</td>\n",
       "      <td>NaN</td>\n",
       "      <td>S</td>\n",
       "    </tr>\n",
       "    <tr>\n",
       "      <th>889</th>\n",
       "      <td>890</td>\n",
       "      <td>1</td>\n",
       "      <td>1</td>\n",
       "      <td>Behr, Mr. Karl Howell</td>\n",
       "      <td>male</td>\n",
       "      <td>26.0</td>\n",
       "      <td>0</td>\n",
       "      <td>0</td>\n",
       "      <td>111369</td>\n",
       "      <td>30.0000</td>\n",
       "      <td>C148</td>\n",
       "      <td>C</td>\n",
       "    </tr>\n",
       "    <tr>\n",
       "      <th>890</th>\n",
       "      <td>891</td>\n",
       "      <td>0</td>\n",
       "      <td>3</td>\n",
       "      <td>Dooley, Mr. Patrick</td>\n",
       "      <td>male</td>\n",
       "      <td>32.0</td>\n",
       "      <td>0</td>\n",
       "      <td>0</td>\n",
       "      <td>370376</td>\n",
       "      <td>7.7500</td>\n",
       "      <td>NaN</td>\n",
       "      <td>Q</td>\n",
       "    </tr>\n",
       "  </tbody>\n",
       "</table>\n",
       "<p>891 rows × 12 columns</p>\n",
       "</div>"
      ],
      "text/plain": [
       "     PassengerId  Survived  Pclass  \\\n",
       "0              1         0       3   \n",
       "1              2         1       1   \n",
       "2              3         1       3   \n",
       "3              4         1       1   \n",
       "4              5         0       3   \n",
       "..           ...       ...     ...   \n",
       "886          887         0       2   \n",
       "887          888         1       1   \n",
       "888          889         0       3   \n",
       "889          890         1       1   \n",
       "890          891         0       3   \n",
       "\n",
       "                                                  Name     Sex   Age  SibSp  \\\n",
       "0                              Braund, Mr. Owen Harris    male  22.0      1   \n",
       "1    Cumings, Mrs. John Bradley (Florence Briggs Th...  female  38.0      1   \n",
       "2                               Heikkinen, Miss. Laina  female  26.0      0   \n",
       "3         Futrelle, Mrs. Jacques Heath (Lily May Peel)  female  35.0      1   \n",
       "4                             Allen, Mr. William Henry    male  35.0      0   \n",
       "..                                                 ...     ...   ...    ...   \n",
       "886                              Montvila, Rev. Juozas    male  27.0      0   \n",
       "887                       Graham, Miss. Margaret Edith  female  19.0      0   \n",
       "888           Johnston, Miss. Catherine Helen \"Carrie\"  female   NaN      1   \n",
       "889                              Behr, Mr. Karl Howell    male  26.0      0   \n",
       "890                                Dooley, Mr. Patrick    male  32.0      0   \n",
       "\n",
       "     Parch            Ticket     Fare Cabin Embarked  \n",
       "0        0         A/5 21171   7.2500   NaN        S  \n",
       "1        0          PC 17599  71.2833   C85        C  \n",
       "2        0  STON/O2. 3101282   7.9250   NaN        S  \n",
       "3        0            113803  53.1000  C123        S  \n",
       "4        0            373450   8.0500   NaN        S  \n",
       "..     ...               ...      ...   ...      ...  \n",
       "886      0            211536  13.0000   NaN        S  \n",
       "887      0            112053  30.0000   B42        S  \n",
       "888      2        W./C. 6607  23.4500   NaN        S  \n",
       "889      0            111369  30.0000  C148        C  \n",
       "890      0            370376   7.7500   NaN        Q  \n",
       "\n",
       "[891 rows x 12 columns]"
      ]
     },
     "execution_count": 5,
     "metadata": {},
     "output_type": "execute_result"
    }
   ],
   "source": [
    "data"
   ]
  },
  {
   "cell_type": "code",
   "execution_count": 6,
   "id": "ad5c77f2-daa3-4bde-a1c1-9ce8f3dee1a3",
   "metadata": {},
   "outputs": [
    {
     "data": {
      "text/html": [
       "<div>\n",
       "<style scoped>\n",
       "    .dataframe tbody tr th:only-of-type {\n",
       "        vertical-align: middle;\n",
       "    }\n",
       "\n",
       "    .dataframe tbody tr th {\n",
       "        vertical-align: top;\n",
       "    }\n",
       "\n",
       "    .dataframe thead th {\n",
       "        text-align: right;\n",
       "    }\n",
       "</style>\n",
       "<table border=\"1\" class=\"dataframe\">\n",
       "  <thead>\n",
       "    <tr style=\"text-align: right;\">\n",
       "      <th></th>\n",
       "      <th>Survived</th>\n",
       "      <th>Age</th>\n",
       "      <th>Fare</th>\n",
       "    </tr>\n",
       "  </thead>\n",
       "  <tbody>\n",
       "    <tr>\n",
       "      <th>0</th>\n",
       "      <td>0</td>\n",
       "      <td>22.0</td>\n",
       "      <td>7.2500</td>\n",
       "    </tr>\n",
       "    <tr>\n",
       "      <th>1</th>\n",
       "      <td>1</td>\n",
       "      <td>38.0</td>\n",
       "      <td>71.2833</td>\n",
       "    </tr>\n",
       "    <tr>\n",
       "      <th>2</th>\n",
       "      <td>1</td>\n",
       "      <td>26.0</td>\n",
       "      <td>7.9250</td>\n",
       "    </tr>\n",
       "    <tr>\n",
       "      <th>3</th>\n",
       "      <td>1</td>\n",
       "      <td>35.0</td>\n",
       "      <td>53.1000</td>\n",
       "    </tr>\n",
       "    <tr>\n",
       "      <th>4</th>\n",
       "      <td>0</td>\n",
       "      <td>35.0</td>\n",
       "      <td>8.0500</td>\n",
       "    </tr>\n",
       "  </tbody>\n",
       "</table>\n",
       "</div>"
      ],
      "text/plain": [
       "   Survived   Age     Fare\n",
       "0         0  22.0   7.2500\n",
       "1         1  38.0  71.2833\n",
       "2         1  26.0   7.9250\n",
       "3         1  35.0  53.1000\n",
       "4         0  35.0   8.0500"
      ]
     },
     "execution_count": 6,
     "metadata": {},
     "output_type": "execute_result"
    }
   ],
   "source": [
    "data = pd.read_csv(r\"C:\\Users\\devad\\Downloads\\titanic.csv\", usecols = ['Age','Fare','Survived'])\n",
    "data.head()"
   ]
  },
  {
   "cell_type": "code",
   "execution_count": 7,
   "id": "0852937f-e68d-4f42-bd96-7c7a0d8bf0cc",
   "metadata": {},
   "outputs": [
    {
     "data": {
      "text/plain": [
       "(891, 3)"
      ]
     },
     "execution_count": 7,
     "metadata": {},
     "output_type": "execute_result"
    }
   ],
   "source": [
    "data.shape"
   ]
  },
  {
   "cell_type": "code",
   "execution_count": 8,
   "id": "3c0e9f1c-a280-4ba6-90a8-b088efdf2243",
   "metadata": {},
   "outputs": [
    {
     "data": {
      "text/plain": [
       "Survived      0\n",
       "Age         177\n",
       "Fare          0\n",
       "dtype: int64"
      ]
     },
     "execution_count": 8,
     "metadata": {},
     "output_type": "execute_result"
    }
   ],
   "source": [
    "data.isnull().sum()"
   ]
  },
  {
   "cell_type": "code",
   "execution_count": 9,
   "id": "9432eb20-11d9-4222-9aa4-5a545095d267",
   "metadata": {},
   "outputs": [
    {
     "data": {
      "text/plain": [
       "((623, 3), (268, 3))"
      ]
     },
     "execution_count": 9,
     "metadata": {},
     "output_type": "execute_result"
    }
   ],
   "source": [
    "from sklearn.model_selection import train_test_split\n",
    "x_train, x_test, y_train, y_test = train_test_split(data, data.Survived, test_size = 0.3, random_state = 0)\n",
    "x_train.shape, x_test.shape"
   ]
  },
  {
   "cell_type": "code",
   "execution_count": 10,
   "id": "5f646437-7475-4323-876a-8b36ff5e841f",
   "metadata": {},
   "outputs": [
    {
     "data": {
      "text/plain": [
       "((623,), (268,))"
      ]
     },
     "execution_count": 10,
     "metadata": {},
     "output_type": "execute_result"
    }
   ],
   "source": [
    "y_train.shape, y_test.shape"
   ]
  },
  {
   "cell_type": "code",
   "execution_count": 11,
   "id": "f9b817d4-4eb2-4fa5-a9c6-13efcd73be85",
   "metadata": {},
   "outputs": [],
   "source": [
    "def impute_na(df, variable, median):\n",
    "    df[variable + '_median'] = df[variable].fillna(median)"
   ]
  },
  {
   "cell_type": "code",
   "execution_count": 12,
   "id": "9481a022-a2c9-4521-aaa9-03ceab1ff318",
   "metadata": {},
   "outputs": [
    {
     "data": {
      "text/plain": [
       "np.float64(29.0)"
      ]
     },
     "execution_count": 12,
     "metadata": {},
     "output_type": "execute_result"
    }
   ],
   "source": [
    "median = x_train.Age.median()\n",
    "median"
   ]
  },
  {
   "cell_type": "code",
   "execution_count": 13,
   "id": "b87a94be-b276-47fb-986b-8d884181cb77",
   "metadata": {},
   "outputs": [
    {
     "data": {
      "text/html": [
       "<div>\n",
       "<style scoped>\n",
       "    .dataframe tbody tr th:only-of-type {\n",
       "        vertical-align: middle;\n",
       "    }\n",
       "\n",
       "    .dataframe tbody tr th {\n",
       "        vertical-align: top;\n",
       "    }\n",
       "\n",
       "    .dataframe thead th {\n",
       "        text-align: right;\n",
       "    }\n",
       "</style>\n",
       "<table border=\"1\" class=\"dataframe\">\n",
       "  <thead>\n",
       "    <tr style=\"text-align: right;\">\n",
       "      <th></th>\n",
       "      <th>Survived</th>\n",
       "      <th>Age</th>\n",
       "      <th>Fare</th>\n",
       "      <th>Age_median</th>\n",
       "    </tr>\n",
       "  </thead>\n",
       "  <tbody>\n",
       "    <tr>\n",
       "      <th>857</th>\n",
       "      <td>1</td>\n",
       "      <td>51.0</td>\n",
       "      <td>26.5500</td>\n",
       "      <td>51.0</td>\n",
       "    </tr>\n",
       "    <tr>\n",
       "      <th>52</th>\n",
       "      <td>1</td>\n",
       "      <td>49.0</td>\n",
       "      <td>76.7292</td>\n",
       "      <td>49.0</td>\n",
       "    </tr>\n",
       "    <tr>\n",
       "      <th>386</th>\n",
       "      <td>0</td>\n",
       "      <td>1.0</td>\n",
       "      <td>46.9000</td>\n",
       "      <td>1.0</td>\n",
       "    </tr>\n",
       "    <tr>\n",
       "      <th>124</th>\n",
       "      <td>0</td>\n",
       "      <td>54.0</td>\n",
       "      <td>77.2875</td>\n",
       "      <td>54.0</td>\n",
       "    </tr>\n",
       "    <tr>\n",
       "      <th>578</th>\n",
       "      <td>0</td>\n",
       "      <td>NaN</td>\n",
       "      <td>14.4583</td>\n",
       "      <td>29.0</td>\n",
       "    </tr>\n",
       "    <tr>\n",
       "      <th>549</th>\n",
       "      <td>1</td>\n",
       "      <td>8.0</td>\n",
       "      <td>36.7500</td>\n",
       "      <td>8.0</td>\n",
       "    </tr>\n",
       "    <tr>\n",
       "      <th>118</th>\n",
       "      <td>0</td>\n",
       "      <td>24.0</td>\n",
       "      <td>247.5208</td>\n",
       "      <td>24.0</td>\n",
       "    </tr>\n",
       "    <tr>\n",
       "      <th>12</th>\n",
       "      <td>0</td>\n",
       "      <td>20.0</td>\n",
       "      <td>8.0500</td>\n",
       "      <td>20.0</td>\n",
       "    </tr>\n",
       "    <tr>\n",
       "      <th>157</th>\n",
       "      <td>0</td>\n",
       "      <td>30.0</td>\n",
       "      <td>8.0500</td>\n",
       "      <td>30.0</td>\n",
       "    </tr>\n",
       "    <tr>\n",
       "      <th>127</th>\n",
       "      <td>1</td>\n",
       "      <td>24.0</td>\n",
       "      <td>7.1417</td>\n",
       "      <td>24.0</td>\n",
       "    </tr>\n",
       "    <tr>\n",
       "      <th>653</th>\n",
       "      <td>1</td>\n",
       "      <td>NaN</td>\n",
       "      <td>7.8292</td>\n",
       "      <td>29.0</td>\n",
       "    </tr>\n",
       "    <tr>\n",
       "      <th>235</th>\n",
       "      <td>0</td>\n",
       "      <td>NaN</td>\n",
       "      <td>7.5500</td>\n",
       "      <td>29.0</td>\n",
       "    </tr>\n",
       "    <tr>\n",
       "      <th>785</th>\n",
       "      <td>0</td>\n",
       "      <td>25.0</td>\n",
       "      <td>7.2500</td>\n",
       "      <td>25.0</td>\n",
       "    </tr>\n",
       "    <tr>\n",
       "      <th>241</th>\n",
       "      <td>1</td>\n",
       "      <td>NaN</td>\n",
       "      <td>15.5000</td>\n",
       "      <td>29.0</td>\n",
       "    </tr>\n",
       "    <tr>\n",
       "      <th>351</th>\n",
       "      <td>0</td>\n",
       "      <td>NaN</td>\n",
       "      <td>35.0000</td>\n",
       "      <td>29.0</td>\n",
       "    </tr>\n",
       "  </tbody>\n",
       "</table>\n",
       "</div>"
      ],
      "text/plain": [
       "     Survived   Age      Fare  Age_median\n",
       "857         1  51.0   26.5500        51.0\n",
       "52          1  49.0   76.7292        49.0\n",
       "386         0   1.0   46.9000         1.0\n",
       "124         0  54.0   77.2875        54.0\n",
       "578         0   NaN   14.4583        29.0\n",
       "549         1   8.0   36.7500         8.0\n",
       "118         0  24.0  247.5208        24.0\n",
       "12          0  20.0    8.0500        20.0\n",
       "157         0  30.0    8.0500        30.0\n",
       "127         1  24.0    7.1417        24.0\n",
       "653         1   NaN    7.8292        29.0\n",
       "235         0   NaN    7.5500        29.0\n",
       "785         0  25.0    7.2500        25.0\n",
       "241         1   NaN   15.5000        29.0\n",
       "351         0   NaN   35.0000        29.0"
      ]
     },
     "execution_count": 13,
     "metadata": {},
     "output_type": "execute_result"
    }
   ],
   "source": [
    "impute_na(x_train, 'Age', median)\n",
    "x_train.head(15)"
   ]
  },
  {
   "cell_type": "code",
   "execution_count": 14,
   "id": "ea646ba4-837c-4927-b5e9-eee25cc7d1f5",
   "metadata": {},
   "outputs": [
    {
     "name": "stdout",
     "output_type": "stream",
     "text": [
      "Original Variance:  14.506993804588454\n",
      "Variance after median imputation:  13.024746215318785\n"
     ]
    }
   ],
   "source": [
    "# we can see a change in the variance after imputayion\n",
    "\n",
    "print('Original Variance: ', x_train['Age'].std())\n",
    "print('Variance after median imputation: ', x_train['Age_median'].std())"
   ]
  },
  {
   "cell_type": "code",
   "execution_count": 15,
   "id": "044bd348-ed71-4da8-b37e-a20cc1158de7",
   "metadata": {},
   "outputs": [
    {
     "data": {
      "text/plain": [
       "<matplotlib.legend.Legend at 0x258e2139b80>"
      ]
     },
     "execution_count": 15,
     "metadata": {},
     "output_type": "execute_result"
    },
    {
     "data": {
      "image/png": "[encoded data removed]",
      "text/plain": [
       "<Figure size 640x480 with 1 Axes>"
      ]
     },
     "metadata": {},
     "output_type": "display_data"
    }
   ],
   "source": [
    "# we can see that the districution has changed slightly with now more values accumulating towards the median\n",
    "fig = plt.figure()\n",
    "ax = fig.add_subplot(111)\n",
    "x_train['Age'].plot(kind='kde', ax=ax)\n",
    "x_train.Age_median.plot(kind='kde', ax=ax, color = 'red')\n",
    "lines, labels = ax.get_legend_handles_labels()\n",
    "ax.legend(lines, labels, loc='best')"
   ]
  },
  {
   "cell_type": "markdown",
   "id": "96b586d1-d0ec-4504-9a94-249c6b4927c5",
   "metadata": {},
   "source": [
    "## 2. Handling Outliers"
   ]
  },
  {
   "cell_type": "markdown",
   "id": "5bfd0b2b-e26a-41f9-8620-8e0bbe828378",
   "metadata": {},
   "source": [
    "- Outliers are the deviated values or data points that are observed too away from other data points in such a way that they badly affect the performance of the model.\n",
    "\n",
    "- Outliers can be handled with this feature engineering technique.This technique first identifies the outliers and then remove them out.\n",
    "\n",
    "- **Standard deviation** can be used to identify the outliers. For example, each value within a space has a definite to an average distance, but if a value is greater distant than a certain value, it can be considered as an outlier. **Z-score** can also be used to detect outliers.s."
   ]
  },
  {
   "cell_type": "code",
   "execution_count": 16,
   "id": "68141ac9-08d3-465a-999f-d3a6da90c345",
   "metadata": {},
   "outputs": [
    {
     "data": {
      "text/html": [
       "<div>\n",
       "<style scoped>\n",
       "    .dataframe tbody tr th:only-of-type {\n",
       "        vertical-align: middle;\n",
       "    }\n",
       "\n",
       "    .dataframe tbody tr th {\n",
       "        vertical-align: top;\n",
       "    }\n",
       "\n",
       "    .dataframe thead th {\n",
       "        text-align: right;\n",
       "    }\n",
       "</style>\n",
       "<table border=\"1\" class=\"dataframe\">\n",
       "  <thead>\n",
       "    <tr style=\"text-align: right;\">\n",
       "      <th></th>\n",
       "      <th>PassengerId</th>\n",
       "      <th>Survived</th>\n",
       "      <th>Pclass</th>\n",
       "      <th>Name</th>\n",
       "      <th>Sex</th>\n",
       "      <th>Age</th>\n",
       "      <th>SibSp</th>\n",
       "      <th>Parch</th>\n",
       "      <th>Ticket</th>\n",
       "      <th>Fare</th>\n",
       "      <th>Cabin</th>\n",
       "      <th>Embarked</th>\n",
       "    </tr>\n",
       "  </thead>\n",
       "  <tbody>\n",
       "    <tr>\n",
       "      <th>0</th>\n",
       "      <td>1</td>\n",
       "      <td>0</td>\n",
       "      <td>3</td>\n",
       "      <td>Braund, Mr. Owen Harris</td>\n",
       "      <td>male</td>\n",
       "      <td>22.0</td>\n",
       "      <td>1</td>\n",
       "      <td>0</td>\n",
       "      <td>A/5 21171</td>\n",
       "      <td>7.2500</td>\n",
       "      <td>NaN</td>\n",
       "      <td>S</td>\n",
       "    </tr>\n",
       "    <tr>\n",
       "      <th>1</th>\n",
       "      <td>2</td>\n",
       "      <td>1</td>\n",
       "      <td>1</td>\n",
       "      <td>Cumings, Mrs. John Bradley (Florence Briggs Th...</td>\n",
       "      <td>female</td>\n",
       "      <td>38.0</td>\n",
       "      <td>1</td>\n",
       "      <td>0</td>\n",
       "      <td>PC 17599</td>\n",
       "      <td>71.2833</td>\n",
       "      <td>C85</td>\n",
       "      <td>C</td>\n",
       "    </tr>\n",
       "    <tr>\n",
       "      <th>2</th>\n",
       "      <td>3</td>\n",
       "      <td>1</td>\n",
       "      <td>3</td>\n",
       "      <td>Heikkinen, Miss. Laina</td>\n",
       "      <td>female</td>\n",
       "      <td>26.0</td>\n",
       "      <td>0</td>\n",
       "      <td>0</td>\n",
       "      <td>STON/O2. 3101282</td>\n",
       "      <td>7.9250</td>\n",
       "      <td>NaN</td>\n",
       "      <td>S</td>\n",
       "    </tr>\n",
       "    <tr>\n",
       "      <th>3</th>\n",
       "      <td>4</td>\n",
       "      <td>1</td>\n",
       "      <td>1</td>\n",
       "      <td>Futrelle, Mrs. Jacques Heath (Lily May Peel)</td>\n",
       "      <td>female</td>\n",
       "      <td>35.0</td>\n",
       "      <td>1</td>\n",
       "      <td>0</td>\n",
       "      <td>113803</td>\n",
       "      <td>53.1000</td>\n",
       "      <td>C123</td>\n",
       "      <td>S</td>\n",
       "    </tr>\n",
       "    <tr>\n",
       "      <th>4</th>\n",
       "      <td>5</td>\n",
       "      <td>0</td>\n",
       "      <td>3</td>\n",
       "      <td>Allen, Mr. William Henry</td>\n",
       "      <td>male</td>\n",
       "      <td>35.0</td>\n",
       "      <td>0</td>\n",
       "      <td>0</td>\n",
       "      <td>373450</td>\n",
       "      <td>8.0500</td>\n",
       "      <td>NaN</td>\n",
       "      <td>S</td>\n",
       "    </tr>\n",
       "  </tbody>\n",
       "</table>\n",
       "</div>"
      ],
      "text/plain": [
       "   PassengerId  Survived  Pclass  \\\n",
       "0            1         0       3   \n",
       "1            2         1       1   \n",
       "2            3         1       3   \n",
       "3            4         1       1   \n",
       "4            5         0       3   \n",
       "\n",
       "                                                Name     Sex   Age  SibSp  \\\n",
       "0                            Braund, Mr. Owen Harris    male  22.0      1   \n",
       "1  Cumings, Mrs. John Bradley (Florence Briggs Th...  female  38.0      1   \n",
       "2                             Heikkinen, Miss. Laina  female  26.0      0   \n",
       "3       Futrelle, Mrs. Jacques Heath (Lily May Peel)  female  35.0      1   \n",
       "4                           Allen, Mr. William Henry    male  35.0      0   \n",
       "\n",
       "   Parch            Ticket     Fare Cabin Embarked  \n",
       "0      0         A/5 21171   7.2500   NaN        S  \n",
       "1      0          PC 17599  71.2833   C85        C  \n",
       "2      0  STON/O2. 3101282   7.9250   NaN        S  \n",
       "3      0            113803  53.1000  C123        S  \n",
       "4      0            373450   8.0500   NaN        S  "
      ]
     },
     "execution_count": 16,
     "metadata": {},
     "output_type": "execute_result"
    }
   ],
   "source": [
    "import seaborn as sns\n",
    "data = pd.read_csv(r\"C:\\Users\\devad\\Downloads\\titanic.csv\")\n",
    "data.head()"
   ]
  },
  {
   "cell_type": "code",
   "execution_count": 17,
   "id": "49df34a8-5bf0-43a0-98fb-20d434cff4f9",
   "metadata": {},
   "outputs": [
    {
     "data": {
      "text/plain": [
       "np.int64(177)"
      ]
     },
     "execution_count": 17,
     "metadata": {},
     "output_type": "execute_result"
    }
   ],
   "source": [
    "data['Age'].isnull().sum()"
   ]
  },
  {
   "cell_type": "code",
   "execution_count": 18,
   "id": "9f15a719-d76c-4e25-93f9-c242140a37bc",
   "metadata": {},
   "outputs": [],
   "source": [
    "data['Age'].fillna(200, inplace = True)"
   ]
  },
  {
   "cell_type": "code",
   "execution_count": 19,
   "id": "c8d6d39e-0f75-4267-91f1-e4f5c74c5cc9",
   "metadata": {},
   "outputs": [
    {
     "data": {
      "text/plain": [
       "np.int64(0)"
      ]
     },
     "execution_count": 19,
     "metadata": {},
     "output_type": "execute_result"
    }
   ],
   "source": [
    "data['Age'].isnull().sum()"
   ]
  },
  {
   "cell_type": "code",
   "execution_count": 20,
   "id": "4c84a0a0-2523-483d-b800-7d047733daf2",
   "metadata": {},
   "outputs": [
    {
     "name": "stdout",
     "output_type": "stream",
     "text": [
      "Age: Lower Bound = -26.0, Upper Bound = 102.0\n",
      "Number of outliers in 'Age': 177\n",
      "              Age\n",
      "count  714.000000\n",
      "mean    29.699118\n",
      "std     14.526497\n",
      "min      0.420000\n",
      "25%     20.125000\n",
      "50%     28.000000\n",
      "75%     38.000000\n",
      "max     80.000000\n"
     ]
    }
   ],
   "source": [
    "import numpy as np\n",
    "\n",
    "def handle_outliers_iqr(data, column):\n",
    "    Q1 = data[column].quantile(0.25)\n",
    "    Q3 = data[column].quantile(0.75)\n",
    "    IQR = Q3 - Q1\n",
    "    \n",
    "    lower_bound = Q1 - 1.5 * IQR\n",
    "    upper_bound = Q3 + 1.5 * IQR\n",
    "    \n",
    "    print(f\"{column}: Lower Bound = {lower_bound}, Upper Bound = {upper_bound}\")\n",
    "    \n",
    "    outliers = data[(data[column] < lower_bound) | (data[column] > upper_bound)]\n",
    "    print(f\"Number of outliers in '{column}': {outliers.shape[0]}\")\n",
    "    \n",
    "    data.loc[data[column] < lower_bound, column] = np.nan\n",
    "    data.loc[data[column] > upper_bound, column] = np.nan\n",
    "    \n",
    "    return data\n",
    "\n",
    "data = handle_outliers_iqr(data,'Age')\n",
    "\n",
    "print(data[['Age']].describe())"
   ]
  },
  {
   "cell_type": "code",
   "execution_count": 21,
   "id": "bf4c1ca9-8d45-431a-ae47-fb6cfc639765",
   "metadata": {},
   "outputs": [
    {
     "data": {
      "text/html": [
       "<div>\n",
       "<style scoped>\n",
       "    .dataframe tbody tr th:only-of-type {\n",
       "        vertical-align: middle;\n",
       "    }\n",
       "\n",
       "    .dataframe tbody tr th {\n",
       "        vertical-align: top;\n",
       "    }\n",
       "\n",
       "    .dataframe thead th {\n",
       "        text-align: right;\n",
       "    }\n",
       "</style>\n",
       "<table border=\"1\" class=\"dataframe\">\n",
       "  <thead>\n",
       "    <tr style=\"text-align: right;\">\n",
       "      <th></th>\n",
       "      <th>PassengerId</th>\n",
       "      <th>Survived</th>\n",
       "      <th>Pclass</th>\n",
       "      <th>Age</th>\n",
       "      <th>SibSp</th>\n",
       "      <th>Parch</th>\n",
       "      <th>Fare</th>\n",
       "    </tr>\n",
       "  </thead>\n",
       "  <tbody>\n",
       "    <tr>\n",
       "      <th>count</th>\n",
       "      <td>891.000000</td>\n",
       "      <td>891.000000</td>\n",
       "      <td>891.000000</td>\n",
       "      <td>714.000000</td>\n",
       "      <td>891.000000</td>\n",
       "      <td>891.000000</td>\n",
       "      <td>891.000000</td>\n",
       "    </tr>\n",
       "    <tr>\n",
       "      <th>mean</th>\n",
       "      <td>446.000000</td>\n",
       "      <td>0.383838</td>\n",
       "      <td>2.308642</td>\n",
       "      <td>29.699118</td>\n",
       "      <td>0.523008</td>\n",
       "      <td>0.381594</td>\n",
       "      <td>32.204208</td>\n",
       "    </tr>\n",
       "    <tr>\n",
       "      <th>std</th>\n",
       "      <td>257.353842</td>\n",
       "      <td>0.486592</td>\n",
       "      <td>0.836071</td>\n",
       "      <td>14.526497</td>\n",
       "      <td>1.102743</td>\n",
       "      <td>0.806057</td>\n",
       "      <td>49.693429</td>\n",
       "    </tr>\n",
       "    <tr>\n",
       "      <th>min</th>\n",
       "      <td>1.000000</td>\n",
       "      <td>0.000000</td>\n",
       "      <td>1.000000</td>\n",
       "      <td>0.420000</td>\n",
       "      <td>0.000000</td>\n",
       "      <td>0.000000</td>\n",
       "      <td>0.000000</td>\n",
       "    </tr>\n",
       "    <tr>\n",
       "      <th>25%</th>\n",
       "      <td>223.500000</td>\n",
       "      <td>0.000000</td>\n",
       "      <td>2.000000</td>\n",
       "      <td>20.125000</td>\n",
       "      <td>0.000000</td>\n",
       "      <td>0.000000</td>\n",
       "      <td>7.910400</td>\n",
       "    </tr>\n",
       "    <tr>\n",
       "      <th>50%</th>\n",
       "      <td>446.000000</td>\n",
       "      <td>0.000000</td>\n",
       "      <td>3.000000</td>\n",
       "      <td>28.000000</td>\n",
       "      <td>0.000000</td>\n",
       "      <td>0.000000</td>\n",
       "      <td>14.454200</td>\n",
       "    </tr>\n",
       "    <tr>\n",
       "      <th>75%</th>\n",
       "      <td>668.500000</td>\n",
       "      <td>1.000000</td>\n",
       "      <td>3.000000</td>\n",
       "      <td>38.000000</td>\n",
       "      <td>1.000000</td>\n",
       "      <td>0.000000</td>\n",
       "      <td>31.000000</td>\n",
       "    </tr>\n",
       "    <tr>\n",
       "      <th>max</th>\n",
       "      <td>891.000000</td>\n",
       "      <td>1.000000</td>\n",
       "      <td>3.000000</td>\n",
       "      <td>80.000000</td>\n",
       "      <td>8.000000</td>\n",
       "      <td>6.000000</td>\n",
       "      <td>512.329200</td>\n",
       "    </tr>\n",
       "  </tbody>\n",
       "</table>\n",
       "</div>"
      ],
      "text/plain": [
       "       PassengerId    Survived      Pclass         Age       SibSp  \\\n",
       "count   891.000000  891.000000  891.000000  714.000000  891.000000   \n",
       "mean    446.000000    0.383838    2.308642   29.699118    0.523008   \n",
       "std     257.353842    0.486592    0.836071   14.526497    1.102743   \n",
       "min       1.000000    0.000000    1.000000    0.420000    0.000000   \n",
       "25%     223.500000    0.000000    2.000000   20.125000    0.000000   \n",
       "50%     446.000000    0.000000    3.000000   28.000000    0.000000   \n",
       "75%     668.500000    1.000000    3.000000   38.000000    1.000000   \n",
       "max     891.000000    1.000000    3.000000   80.000000    8.000000   \n",
       "\n",
       "            Parch        Fare  \n",
       "count  891.000000  891.000000  \n",
       "mean     0.381594   32.204208  \n",
       "std      0.806057   49.693429  \n",
       "min      0.000000    0.000000  \n",
       "25%      0.000000    7.910400  \n",
       "50%      0.000000   14.454200  \n",
       "75%      0.000000   31.000000  \n",
       "max      6.000000  512.329200  "
      ]
     },
     "execution_count": 21,
     "metadata": {},
     "output_type": "execute_result"
    }
   ],
   "source": [
    "data.describe()"
   ]
  },
  {
   "cell_type": "markdown",
   "id": "c3aad1e6-2be9-41b2-917e-68718f95f3f5",
   "metadata": {},
   "source": [
    "## 3.Transformation"
   ]
  },
  {
   "cell_type": "markdown",
   "id": "49e7727e-a715-447b-88d3-a8639d8a20ad",
   "metadata": {},
   "source": [
    "- **Transformation** in data science refers to the process of applying mathematical operations or functions to data in order to change its distribution, scale, or relationship with other variables. The goal is often to make the data more suitable for analysis or modeling. Transformations can help:\n",
    "\n",
    "- **Normalize or standardize** data to a consistent scale.\n",
    "\n",
    "- **Reduce skewness** to make the data more symmetric or approximately normal.\n",
    "\n",
    "- **Stabilize variance** for better model performance.\n",
    "\n",
    "- **Enhance the relationship** between variables to meet modeling assumptions."
   ]
  },
  {
   "cell_type": "markdown",
   "id": "e3dc0426-7987-4ca3-a72a-06a32123f4fb",
   "metadata": {},
   "source": [
    "There are 3 Types:\n",
    "\n",
    "1. Logarithmic Transformation\n",
    "\n",
    "2. Exponential Transformation\n",
    "\n",
    "3. Box-Cox Transformation"
   ]
  },
  {
   "cell_type": "code",
   "execution_count": 22,
   "id": "3e209bdb-060b-412c-82e6-6d51f1cad95b",
   "metadata": {},
   "outputs": [],
   "source": [
    "import numpy as np\n",
    "import pandas as pd\n",
    "import matplotlib.pyplot as plt\n",
    "%matplotlib inline\n",
    "\n",
    "import pylab\n",
    "import scipy.stats as stats"
   ]
  },
  {
   "cell_type": "code",
   "execution_count": 23,
   "id": "6986f7ad-4a42-4d32-80c3-0d6f643f45d5",
   "metadata": {},
   "outputs": [
    {
     "data": {
      "text/html": [
       "<div>\n",
       "<style scoped>\n",
       "    .dataframe tbody tr th:only-of-type {\n",
       "        vertical-align: middle;\n",
       "    }\n",
       "\n",
       "    .dataframe tbody tr th {\n",
       "        vertical-align: top;\n",
       "    }\n",
       "\n",
       "    .dataframe thead th {\n",
       "        text-align: right;\n",
       "    }\n",
       "</style>\n",
       "<table border=\"1\" class=\"dataframe\">\n",
       "  <thead>\n",
       "    <tr style=\"text-align: right;\">\n",
       "      <th></th>\n",
       "      <th>Survived</th>\n",
       "      <th>Age</th>\n",
       "      <th>Fare</th>\n",
       "    </tr>\n",
       "  </thead>\n",
       "  <tbody>\n",
       "    <tr>\n",
       "      <th>0</th>\n",
       "      <td>0</td>\n",
       "      <td>22.0</td>\n",
       "      <td>7.2500</td>\n",
       "    </tr>\n",
       "    <tr>\n",
       "      <th>1</th>\n",
       "      <td>1</td>\n",
       "      <td>38.0</td>\n",
       "      <td>71.2833</td>\n",
       "    </tr>\n",
       "    <tr>\n",
       "      <th>2</th>\n",
       "      <td>1</td>\n",
       "      <td>26.0</td>\n",
       "      <td>7.9250</td>\n",
       "    </tr>\n",
       "    <tr>\n",
       "      <th>3</th>\n",
       "      <td>1</td>\n",
       "      <td>35.0</td>\n",
       "      <td>53.1000</td>\n",
       "    </tr>\n",
       "    <tr>\n",
       "      <th>4</th>\n",
       "      <td>0</td>\n",
       "      <td>35.0</td>\n",
       "      <td>8.0500</td>\n",
       "    </tr>\n",
       "    <tr>\n",
       "      <th>5</th>\n",
       "      <td>0</td>\n",
       "      <td>NaN</td>\n",
       "      <td>8.4583</td>\n",
       "    </tr>\n",
       "    <tr>\n",
       "      <th>6</th>\n",
       "      <td>0</td>\n",
       "      <td>54.0</td>\n",
       "      <td>51.8625</td>\n",
       "    </tr>\n",
       "    <tr>\n",
       "      <th>7</th>\n",
       "      <td>0</td>\n",
       "      <td>2.0</td>\n",
       "      <td>21.0750</td>\n",
       "    </tr>\n",
       "    <tr>\n",
       "      <th>8</th>\n",
       "      <td>1</td>\n",
       "      <td>27.0</td>\n",
       "      <td>11.1333</td>\n",
       "    </tr>\n",
       "    <tr>\n",
       "      <th>9</th>\n",
       "      <td>1</td>\n",
       "      <td>14.0</td>\n",
       "      <td>30.0708</td>\n",
       "    </tr>\n",
       "    <tr>\n",
       "      <th>10</th>\n",
       "      <td>1</td>\n",
       "      <td>4.0</td>\n",
       "      <td>16.7000</td>\n",
       "    </tr>\n",
       "    <tr>\n",
       "      <th>11</th>\n",
       "      <td>1</td>\n",
       "      <td>58.0</td>\n",
       "      <td>26.5500</td>\n",
       "    </tr>\n",
       "    <tr>\n",
       "      <th>12</th>\n",
       "      <td>0</td>\n",
       "      <td>20.0</td>\n",
       "      <td>8.0500</td>\n",
       "    </tr>\n",
       "    <tr>\n",
       "      <th>13</th>\n",
       "      <td>0</td>\n",
       "      <td>39.0</td>\n",
       "      <td>31.2750</td>\n",
       "    </tr>\n",
       "    <tr>\n",
       "      <th>14</th>\n",
       "      <td>0</td>\n",
       "      <td>14.0</td>\n",
       "      <td>7.8542</td>\n",
       "    </tr>\n",
       "    <tr>\n",
       "      <th>15</th>\n",
       "      <td>1</td>\n",
       "      <td>55.0</td>\n",
       "      <td>16.0000</td>\n",
       "    </tr>\n",
       "    <tr>\n",
       "      <th>16</th>\n",
       "      <td>0</td>\n",
       "      <td>2.0</td>\n",
       "      <td>29.1250</td>\n",
       "    </tr>\n",
       "    <tr>\n",
       "      <th>17</th>\n",
       "      <td>1</td>\n",
       "      <td>NaN</td>\n",
       "      <td>13.0000</td>\n",
       "    </tr>\n",
       "    <tr>\n",
       "      <th>18</th>\n",
       "      <td>0</td>\n",
       "      <td>31.0</td>\n",
       "      <td>18.0000</td>\n",
       "    </tr>\n",
       "    <tr>\n",
       "      <th>19</th>\n",
       "      <td>1</td>\n",
       "      <td>NaN</td>\n",
       "      <td>7.2250</td>\n",
       "    </tr>\n",
       "  </tbody>\n",
       "</table>\n",
       "</div>"
      ],
      "text/plain": [
       "    Survived   Age     Fare\n",
       "0          0  22.0   7.2500\n",
       "1          1  38.0  71.2833\n",
       "2          1  26.0   7.9250\n",
       "3          1  35.0  53.1000\n",
       "4          0  35.0   8.0500\n",
       "5          0   NaN   8.4583\n",
       "6          0  54.0  51.8625\n",
       "7          0   2.0  21.0750\n",
       "8          1  27.0  11.1333\n",
       "9          1  14.0  30.0708\n",
       "10         1   4.0  16.7000\n",
       "11         1  58.0  26.5500\n",
       "12         0  20.0   8.0500\n",
       "13         0  39.0  31.2750\n",
       "14         0  14.0   7.8542\n",
       "15         1  55.0  16.0000\n",
       "16         0   2.0  29.1250\n",
       "17         1   NaN  13.0000\n",
       "18         0  31.0  18.0000\n",
       "19         1   NaN   7.2250"
      ]
     },
     "execution_count": 23,
     "metadata": {},
     "output_type": "execute_result"
    }
   ],
   "source": [
    "data = pd.read_csv(r\"C:\\Users\\devad\\Downloads\\titanic.csv\", usecols = ['Age','Fare','Survived'])\n",
    "data.head(20)"
   ]
  },
  {
   "cell_type": "code",
   "execution_count": 24,
   "id": "93a2dff0-229f-4af9-adc2-adfc4c422700",
   "metadata": {},
   "outputs": [
    {
     "data": {
      "text/plain": [
       "Survived      0\n",
       "Age         177\n",
       "Fare          0\n",
       "dtype: int64"
      ]
     },
     "execution_count": 24,
     "metadata": {},
     "output_type": "execute_result"
    }
   ],
   "source": [
    "data.isnull().sum()"
   ]
  },
  {
   "cell_type": "code",
   "execution_count": 25,
   "id": "7fb56685-1863-4112-989d-befbff86ab2a",
   "metadata": {},
   "outputs": [],
   "source": [
    "def impute_na(data, variable):\n",
    "    \n",
    "    df = data.copy()\n",
    "    \n",
    "    df[variable + '_random'] = df[variable]\n",
    "    \n",
    "    random_sample = df[variable].dropna().sample(df[variable].isnull().sum(), random_state=0)\n",
    "    \n",
    "    random_sample.index = df[df[variable].isnull()].index\n",
    "    df.loc[df[variable].isnull(), variable + '_random'] = random_sample\n",
    "    \n",
    "    return df[variable + '_random']"
   ]
  },
  {
   "cell_type": "code",
   "execution_count": 26,
   "id": "19cb5892-5c77-4004-a095-c1c05fe7394c",
   "metadata": {},
   "outputs": [
    {
     "data": {
      "text/html": [
       "<div>\n",
       "<style scoped>\n",
       "    .dataframe tbody tr th:only-of-type {\n",
       "        vertical-align: middle;\n",
       "    }\n",
       "\n",
       "    .dataframe tbody tr th {\n",
       "        vertical-align: top;\n",
       "    }\n",
       "\n",
       "    .dataframe thead th {\n",
       "        text-align: right;\n",
       "    }\n",
       "</style>\n",
       "<table border=\"1\" class=\"dataframe\">\n",
       "  <thead>\n",
       "    <tr style=\"text-align: right;\">\n",
       "      <th></th>\n",
       "      <th>Survived</th>\n",
       "      <th>Age</th>\n",
       "      <th>Fare</th>\n",
       "    </tr>\n",
       "  </thead>\n",
       "  <tbody>\n",
       "    <tr>\n",
       "      <th>0</th>\n",
       "      <td>0</td>\n",
       "      <td>22.00</td>\n",
       "      <td>7.2500</td>\n",
       "    </tr>\n",
       "    <tr>\n",
       "      <th>1</th>\n",
       "      <td>1</td>\n",
       "      <td>38.00</td>\n",
       "      <td>71.2833</td>\n",
       "    </tr>\n",
       "    <tr>\n",
       "      <th>2</th>\n",
       "      <td>1</td>\n",
       "      <td>26.00</td>\n",
       "      <td>7.9250</td>\n",
       "    </tr>\n",
       "    <tr>\n",
       "      <th>3</th>\n",
       "      <td>1</td>\n",
       "      <td>35.00</td>\n",
       "      <td>53.1000</td>\n",
       "    </tr>\n",
       "    <tr>\n",
       "      <th>4</th>\n",
       "      <td>0</td>\n",
       "      <td>35.00</td>\n",
       "      <td>8.0500</td>\n",
       "    </tr>\n",
       "    <tr>\n",
       "      <th>5</th>\n",
       "      <td>0</td>\n",
       "      <td>28.00</td>\n",
       "      <td>8.4583</td>\n",
       "    </tr>\n",
       "    <tr>\n",
       "      <th>6</th>\n",
       "      <td>0</td>\n",
       "      <td>54.00</td>\n",
       "      <td>51.8625</td>\n",
       "    </tr>\n",
       "    <tr>\n",
       "      <th>7</th>\n",
       "      <td>0</td>\n",
       "      <td>2.00</td>\n",
       "      <td>21.0750</td>\n",
       "    </tr>\n",
       "    <tr>\n",
       "      <th>8</th>\n",
       "      <td>1</td>\n",
       "      <td>27.00</td>\n",
       "      <td>11.1333</td>\n",
       "    </tr>\n",
       "    <tr>\n",
       "      <th>9</th>\n",
       "      <td>1</td>\n",
       "      <td>14.00</td>\n",
       "      <td>30.0708</td>\n",
       "    </tr>\n",
       "    <tr>\n",
       "      <th>10</th>\n",
       "      <td>1</td>\n",
       "      <td>4.00</td>\n",
       "      <td>16.7000</td>\n",
       "    </tr>\n",
       "    <tr>\n",
       "      <th>11</th>\n",
       "      <td>1</td>\n",
       "      <td>58.00</td>\n",
       "      <td>26.5500</td>\n",
       "    </tr>\n",
       "    <tr>\n",
       "      <th>12</th>\n",
       "      <td>0</td>\n",
       "      <td>20.00</td>\n",
       "      <td>8.0500</td>\n",
       "    </tr>\n",
       "    <tr>\n",
       "      <th>13</th>\n",
       "      <td>0</td>\n",
       "      <td>39.00</td>\n",
       "      <td>31.2750</td>\n",
       "    </tr>\n",
       "    <tr>\n",
       "      <th>14</th>\n",
       "      <td>0</td>\n",
       "      <td>14.00</td>\n",
       "      <td>7.8542</td>\n",
       "    </tr>\n",
       "    <tr>\n",
       "      <th>15</th>\n",
       "      <td>1</td>\n",
       "      <td>55.00</td>\n",
       "      <td>16.0000</td>\n",
       "    </tr>\n",
       "    <tr>\n",
       "      <th>16</th>\n",
       "      <td>0</td>\n",
       "      <td>2.00</td>\n",
       "      <td>29.1250</td>\n",
       "    </tr>\n",
       "    <tr>\n",
       "      <th>17</th>\n",
       "      <td>1</td>\n",
       "      <td>50.00</td>\n",
       "      <td>13.0000</td>\n",
       "    </tr>\n",
       "    <tr>\n",
       "      <th>18</th>\n",
       "      <td>0</td>\n",
       "      <td>31.00</td>\n",
       "      <td>18.0000</td>\n",
       "    </tr>\n",
       "    <tr>\n",
       "      <th>19</th>\n",
       "      <td>1</td>\n",
       "      <td>0.92</td>\n",
       "      <td>7.2250</td>\n",
       "    </tr>\n",
       "  </tbody>\n",
       "</table>\n",
       "</div>"
      ],
      "text/plain": [
       "    Survived    Age     Fare\n",
       "0          0  22.00   7.2500\n",
       "1          1  38.00  71.2833\n",
       "2          1  26.00   7.9250\n",
       "3          1  35.00  53.1000\n",
       "4          0  35.00   8.0500\n",
       "5          0  28.00   8.4583\n",
       "6          0  54.00  51.8625\n",
       "7          0   2.00  21.0750\n",
       "8          1  27.00  11.1333\n",
       "9          1  14.00  30.0708\n",
       "10         1   4.00  16.7000\n",
       "11         1  58.00  26.5500\n",
       "12         0  20.00   8.0500\n",
       "13         0  39.00  31.2750\n",
       "14         0  14.00   7.8542\n",
       "15         1  55.00  16.0000\n",
       "16         0   2.00  29.1250\n",
       "17         1  50.00  13.0000\n",
       "18         0  31.00  18.0000\n",
       "19         1   0.92   7.2250"
      ]
     },
     "execution_count": 26,
     "metadata": {},
     "output_type": "execute_result"
    }
   ],
   "source": [
    "data['Age']=impute_na(data,'Age')\n",
    "data.head(20)"
   ]
  },
  {
   "cell_type": "code",
   "execution_count": 27,
   "id": "8375eab3-ba12-4a31-b02d-af9e0927d533",
   "metadata": {},
   "outputs": [
    {
     "data": {
      "image/png": "[encoded data removed]",
      "text/plain": [
       "<Figure size 1500x600 with 2 Axes>"
      ]
     },
     "metadata": {},
     "output_type": "display_data"
    }
   ],
   "source": [
    "def diagnostic_plots(df,variable):\n",
    "    \n",
    "    plt.figure(figsize=(15,6))\n",
    "    plt.subplot(1,2,1)\n",
    "    df[variable].hist()\n",
    "    \n",
    "    plt.subplot(1,2,2)\n",
    "    stats.probplot(df[variable],dist=\"norm\",plot=pylab)\n",
    "    \n",
    "    plt.show()\n",
    "\n",
    "diagnostic_plots(data,'Age')"
   ]
  },
  {
   "cell_type": "markdown",
   "id": "65bba564-7987-41f3-9673-4fe6791855a6",
   "metadata": {},
   "source": [
    "## 1. Logarithmic Transformation\n",
    "\n",
    "\n",
    "Logarithmic transformation reduces the range of data, making skewed distributions more symmetric. It is particularly useful for data with a heavy right skew.\n",
    "\n",
    "**Steps**:\n",
    "\n",
    "1. Identify the feature(s) requiring transformation (e.g., positive skew).\n",
    "\n",
    "2. Apply the natural log (ln) or base-10 logarithm to the data.\n",
    "\n",
    "3. Handle zeros or negative values (e.g., by adding a constant before transformation)."
   ]
  },
  {
   "cell_type": "code",
   "execution_count": 28,
   "id": "bcb67947-0e04-4656-8aea-acca0835f471",
   "metadata": {},
   "outputs": [
    {
     "data": {
      "image/png": "[encoded data removed]",
      "text/plain": [
       "<Figure size 1500x600 with 2 Axes>"
      ]
     },
     "metadata": {},
     "output_type": "display_data"
    }
   ],
   "source": [
    "#logarithmic transformation\n",
    "\n",
    "data['Age_log'] = np.log(data.Age)\n",
    "diagnostic_plots(data,'Age_log')"
   ]
  },
  {
   "cell_type": "markdown",
   "id": "1c095061-e01e-4dbc-ac8b-15bc58d81629",
   "metadata": {},
   "source": [
    "## 2. Exponential Transformation\n",
    "\n",
    "Exponential transformation is used to increase the spread of data or reverse the effect of a logarithmic transformation. It is often applied to stabilize variance or amplify small values.\n",
    "\n",
    "**Steps**:\n",
    "\n",
    "1. Identify the feature(s) requiring transformation.\n",
    "\n",
    "2. Apply the exponential function (e.g., `e^x` or `10^x`) to the data."
   ]
  },
  {
   "cell_type": "code",
   "execution_count": 29,
   "id": "556c14f4-326f-4140-a9e7-be26cee99a0e",
   "metadata": {},
   "outputs": [
    {
     "data": {
      "image/png": "[encoded data removed]",
      "text/plain": [
       "<Figure size 1500x600 with 2 Axes>"
      ]
     },
     "metadata": {},
     "output_type": "display_data"
    }
   ],
   "source": [
    "## exponential transformation\n",
    "data['Age_exp']=data.Age**(1/1.2)\n",
    "diagnostic_plots(data,'Age_exp')"
   ]
  },
  {
   "cell_type": "markdown",
   "id": "fe4be0d3-1f4e-4f0b-8a7b-ee872fe83177",
   "metadata": {},
   "source": [
    "## 3. Box-Cox Transformation\n",
    "\n",
    "Box-Cox transformation is a statistical method that stabilizes variance and makes data closer to normal distribution. It is suitable for positive continuous data.\n",
    "\n",
    "**Steps**:\n",
    "\n",
    "1. Import the `scipy.stats` library.\n",
    "\n",
    "2. Ensure the data has only positive values (add a constant if necessary).\n",
    "\n",
    "3. Apply the `boxcox` function and determine the best lambda parameter."
   ]
  },
  {
   "cell_type": "code",
   "execution_count": 30,
   "id": "91da742a-4080-4d79-be0c-42366c61430f",
   "metadata": {},
   "outputs": [
    {
     "name": "stdout",
     "output_type": "stream",
     "text": [
      "Optimal lambda: 0.7648522388621721\n"
     ]
    },
    {
     "data": {
      "image/png": "[encoded data removed]",
      "text/plain": [
       "<Figure size 1500x600 with 2 Axes>"
      ]
     },
     "metadata": {},
     "output_type": "display_data"
    }
   ],
   "source": [
    "## boxcox transformation\n",
    "data['Age_boxcox'],param = stats.boxcox(data.Age)\n",
    "print('Optimal lambda:',param)\n",
    "diagnostic_plots(data,'Age_boxcox')"
   ]
  },
  {
   "cell_type": "markdown",
   "id": "329b973a-93aa-47d5-9d2d-fb38112c9530",
   "metadata": {},
   "source": [
    "## Encoding categorical features"
   ]
  },
  {
   "cell_type": "markdown",
   "id": "2a14b1d1-ac69-4e82-afcd-21e3cbb3cc37",
   "metadata": {},
   "source": [
    "**Encoding categorical features** refers to the process of converting categorical data (values representing categories or labels) into a numerical format that can be used by machine learning algorithms. Most machine learning models require numerical input, so encoding is necessary for categorical features (such as \"Color,\" \"City,\" or \"Product Type\") to be included in the model.\n",
    "\n",
    "There are several techniques for encoding categorical features, including:\n",
    "\n",
    "1. **One-Hot Encoding**: Converts categories into separate binary columns (0 or 1), indicating the presence or absence of each category.\n",
    "\n",
    "2. **Label Encoding**: Assigns a unique integer to each category.\n",
    "\n",
    "3. **Ordinal Encoding**: Maps categories to integers, but respects any inherent ordering between categories (e.g., \"Low\" < \"Medium\" < \"High\").\n",
    "\n",
    "4. **Target Encoding**: Replaces each category with the mean of the target variable for that category."
   ]
  },
  {
   "cell_type": "markdown",
   "id": "0ed6ca34-3e6a-4e1e-9a87-3b065d0218c8",
   "metadata": {},
   "source": [
    "## 1.1 One-Hot Encoding"
   ]
  },
  {
   "cell_type": "markdown",
   "id": "92e8acee-ce20-4e17-8e4a-22112d532389",
   "metadata": {},
   "source": [
    "**Definition**: One-hot encoding is a technique used to convert categorical variables into a series of binary (0 or 1) columns, each representing a unique category from the original feature. This method ensures that the machine learning model does not assume any ordinal relationship between categories, which is important for nominal features (categories without any particular order).\n",
    "\n",
    "**How it works**:\n",
    "\n",
    "- Each category in the feature is transformed into a new binary column.\n",
    "\n",
    "- A \"1\" indicates the presence of that category, while \"0\" indicates its absence."
   ]
  },
  {
   "cell_type": "code",
   "execution_count": 109,
   "id": "6e997adb-3367-4af8-b36c-68ba09b96d88",
   "metadata": {},
   "outputs": [
    {
     "data": {
      "text/html": [
       "<div>\n",
       "<style scoped>\n",
       "    .dataframe tbody tr th:only-of-type {\n",
       "        vertical-align: middle;\n",
       "    }\n",
       "\n",
       "    .dataframe tbody tr th {\n",
       "        vertical-align: top;\n",
       "    }\n",
       "\n",
       "    .dataframe thead th {\n",
       "        text-align: right;\n",
       "    }\n",
       "</style>\n",
       "<table border=\"1\" class=\"dataframe\">\n",
       "  <thead>\n",
       "    <tr style=\"text-align: right;\">\n",
       "      <th></th>\n",
       "      <th>PassengerId</th>\n",
       "      <th>Survived</th>\n",
       "      <th>Pclass</th>\n",
       "      <th>Name</th>\n",
       "      <th>Sex</th>\n",
       "      <th>Age</th>\n",
       "      <th>SibSp</th>\n",
       "      <th>Parch</th>\n",
       "      <th>Ticket</th>\n",
       "      <th>Fare</th>\n",
       "      <th>Cabin</th>\n",
       "      <th>Embarked</th>\n",
       "    </tr>\n",
       "  </thead>\n",
       "  <tbody>\n",
       "    <tr>\n",
       "      <th>0</th>\n",
       "      <td>1</td>\n",
       "      <td>0</td>\n",
       "      <td>3</td>\n",
       "      <td>Braund, Mr. Owen Harris</td>\n",
       "      <td>male</td>\n",
       "      <td>22.0</td>\n",
       "      <td>1</td>\n",
       "      <td>0</td>\n",
       "      <td>A/5 21171</td>\n",
       "      <td>7.2500</td>\n",
       "      <td>NaN</td>\n",
       "      <td>S</td>\n",
       "    </tr>\n",
       "    <tr>\n",
       "      <th>1</th>\n",
       "      <td>2</td>\n",
       "      <td>1</td>\n",
       "      <td>1</td>\n",
       "      <td>Cumings, Mrs. John Bradley (Florence Briggs Th...</td>\n",
       "      <td>female</td>\n",
       "      <td>38.0</td>\n",
       "      <td>1</td>\n",
       "      <td>0</td>\n",
       "      <td>PC 17599</td>\n",
       "      <td>71.2833</td>\n",
       "      <td>C85</td>\n",
       "      <td>C</td>\n",
       "    </tr>\n",
       "    <tr>\n",
       "      <th>2</th>\n",
       "      <td>3</td>\n",
       "      <td>1</td>\n",
       "      <td>3</td>\n",
       "      <td>Heikkinen, Miss. Laina</td>\n",
       "      <td>female</td>\n",
       "      <td>26.0</td>\n",
       "      <td>0</td>\n",
       "      <td>0</td>\n",
       "      <td>STON/O2. 3101282</td>\n",
       "      <td>7.9250</td>\n",
       "      <td>NaN</td>\n",
       "      <td>S</td>\n",
       "    </tr>\n",
       "    <tr>\n",
       "      <th>3</th>\n",
       "      <td>4</td>\n",
       "      <td>1</td>\n",
       "      <td>1</td>\n",
       "      <td>Futrelle, Mrs. Jacques Heath (Lily May Peel)</td>\n",
       "      <td>female</td>\n",
       "      <td>35.0</td>\n",
       "      <td>1</td>\n",
       "      <td>0</td>\n",
       "      <td>113803</td>\n",
       "      <td>53.1000</td>\n",
       "      <td>C123</td>\n",
       "      <td>S</td>\n",
       "    </tr>\n",
       "    <tr>\n",
       "      <th>4</th>\n",
       "      <td>5</td>\n",
       "      <td>0</td>\n",
       "      <td>3</td>\n",
       "      <td>Allen, Mr. William Henry</td>\n",
       "      <td>male</td>\n",
       "      <td>35.0</td>\n",
       "      <td>0</td>\n",
       "      <td>0</td>\n",
       "      <td>373450</td>\n",
       "      <td>8.0500</td>\n",
       "      <td>NaN</td>\n",
       "      <td>S</td>\n",
       "    </tr>\n",
       "    <tr>\n",
       "      <th>...</th>\n",
       "      <td>...</td>\n",
       "      <td>...</td>\n",
       "      <td>...</td>\n",
       "      <td>...</td>\n",
       "      <td>...</td>\n",
       "      <td>...</td>\n",
       "      <td>...</td>\n",
       "      <td>...</td>\n",
       "      <td>...</td>\n",
       "      <td>...</td>\n",
       "      <td>...</td>\n",
       "      <td>...</td>\n",
       "    </tr>\n",
       "    <tr>\n",
       "      <th>886</th>\n",
       "      <td>887</td>\n",
       "      <td>0</td>\n",
       "      <td>2</td>\n",
       "      <td>Montvila, Rev. Juozas</td>\n",
       "      <td>male</td>\n",
       "      <td>27.0</td>\n",
       "      <td>0</td>\n",
       "      <td>0</td>\n",
       "      <td>211536</td>\n",
       "      <td>13.0000</td>\n",
       "      <td>NaN</td>\n",
       "      <td>S</td>\n",
       "    </tr>\n",
       "    <tr>\n",
       "      <th>887</th>\n",
       "      <td>888</td>\n",
       "      <td>1</td>\n",
       "      <td>1</td>\n",
       "      <td>Graham, Miss. Margaret Edith</td>\n",
       "      <td>female</td>\n",
       "      <td>19.0</td>\n",
       "      <td>0</td>\n",
       "      <td>0</td>\n",
       "      <td>112053</td>\n",
       "      <td>30.0000</td>\n",
       "      <td>B42</td>\n",
       "      <td>S</td>\n",
       "    </tr>\n",
       "    <tr>\n",
       "      <th>888</th>\n",
       "      <td>889</td>\n",
       "      <td>0</td>\n",
       "      <td>3</td>\n",
       "      <td>Johnston, Miss. Catherine Helen \"Carrie\"</td>\n",
       "      <td>female</td>\n",
       "      <td>NaN</td>\n",
       "      <td>1</td>\n",
       "      <td>2</td>\n",
       "      <td>W./C. 6607</td>\n",
       "      <td>23.4500</td>\n",
       "      <td>NaN</td>\n",
       "      <td>S</td>\n",
       "    </tr>\n",
       "    <tr>\n",
       "      <th>889</th>\n",
       "      <td>890</td>\n",
       "      <td>1</td>\n",
       "      <td>1</td>\n",
       "      <td>Behr, Mr. Karl Howell</td>\n",
       "      <td>male</td>\n",
       "      <td>26.0</td>\n",
       "      <td>0</td>\n",
       "      <td>0</td>\n",
       "      <td>111369</td>\n",
       "      <td>30.0000</td>\n",
       "      <td>C148</td>\n",
       "      <td>C</td>\n",
       "    </tr>\n",
       "    <tr>\n",
       "      <th>890</th>\n",
       "      <td>891</td>\n",
       "      <td>0</td>\n",
       "      <td>3</td>\n",
       "      <td>Dooley, Mr. Patrick</td>\n",
       "      <td>male</td>\n",
       "      <td>32.0</td>\n",
       "      <td>0</td>\n",
       "      <td>0</td>\n",
       "      <td>370376</td>\n",
       "      <td>7.7500</td>\n",
       "      <td>NaN</td>\n",
       "      <td>Q</td>\n",
       "    </tr>\n",
       "  </tbody>\n",
       "</table>\n",
       "<p>891 rows × 12 columns</p>\n",
       "</div>"
      ],
      "text/plain": [
       "     PassengerId  Survived  Pclass  \\\n",
       "0              1         0       3   \n",
       "1              2         1       1   \n",
       "2              3         1       3   \n",
       "3              4         1       1   \n",
       "4              5         0       3   \n",
       "..           ...       ...     ...   \n",
       "886          887         0       2   \n",
       "887          888         1       1   \n",
       "888          889         0       3   \n",
       "889          890         1       1   \n",
       "890          891         0       3   \n",
       "\n",
       "                                                  Name     Sex   Age  SibSp  \\\n",
       "0                              Braund, Mr. Owen Harris    male  22.0      1   \n",
       "1    Cumings, Mrs. John Bradley (Florence Briggs Th...  female  38.0      1   \n",
       "2                               Heikkinen, Miss. Laina  female  26.0      0   \n",
       "3         Futrelle, Mrs. Jacques Heath (Lily May Peel)  female  35.0      1   \n",
       "4                             Allen, Mr. William Henry    male  35.0      0   \n",
       "..                                                 ...     ...   ...    ...   \n",
       "886                              Montvila, Rev. Juozas    male  27.0      0   \n",
       "887                       Graham, Miss. Margaret Edith  female  19.0      0   \n",
       "888           Johnston, Miss. Catherine Helen \"Carrie\"  female   NaN      1   \n",
       "889                              Behr, Mr. Karl Howell    male  26.0      0   \n",
       "890                                Dooley, Mr. Patrick    male  32.0      0   \n",
       "\n",
       "     Parch            Ticket     Fare Cabin Embarked  \n",
       "0        0         A/5 21171   7.2500   NaN        S  \n",
       "1        0          PC 17599  71.2833   C85        C  \n",
       "2        0  STON/O2. 3101282   7.9250   NaN        S  \n",
       "3        0            113803  53.1000  C123        S  \n",
       "4        0            373450   8.0500   NaN        S  \n",
       "..     ...               ...      ...   ...      ...  \n",
       "886      0            211536  13.0000   NaN        S  \n",
       "887      0            112053  30.0000   B42        S  \n",
       "888      2        W./C. 6607  23.4500   NaN        S  \n",
       "889      0            111369  30.0000  C148        C  \n",
       "890      0            370376   7.7500   NaN        Q  \n",
       "\n",
       "[891 rows x 12 columns]"
      ]
     },
     "execution_count": 109,
     "metadata": {},
     "output_type": "execute_result"
    }
   ],
   "source": [
    "data = pd.read_csv(r\"C:\\Users\\devad\\Downloads\\titanic.csv\")\n",
    "data"
   ]
  },
  {
   "cell_type": "code",
   "execution_count": 110,
   "id": "0a0db052-5869-4fa5-b327-005f03729884",
   "metadata": {},
   "outputs": [
    {
     "data": {
      "text/plain": [
       "PassengerId      0\n",
       "Survived         0\n",
       "Pclass           0\n",
       "Name             0\n",
       "Sex              0\n",
       "Age            177\n",
       "SibSp            0\n",
       "Parch            0\n",
       "Ticket           0\n",
       "Fare             0\n",
       "Cabin          687\n",
       "Embarked         2\n",
       "dtype: int64"
      ]
     },
     "execution_count": 110,
     "metadata": {},
     "output_type": "execute_result"
    }
   ],
   "source": [
    "data.isnull().sum()"
   ]
  },
  {
   "cell_type": "code",
   "execution_count": 111,
   "id": "09ced1ef-7738-4c2b-8649-3f54063d3afa",
   "metadata": {},
   "outputs": [
    {
     "data": {
      "text/plain": [
       "Embarked\n",
       "S    644\n",
       "C    168\n",
       "Q     77\n",
       "Name: count, dtype: int64"
      ]
     },
     "execution_count": 111,
     "metadata": {},
     "output_type": "execute_result"
    }
   ],
   "source": [
    "data['Embarked'].value_counts()"
   ]
  },
  {
   "cell_type": "code",
   "execution_count": 112,
   "id": "5f824ce8-d955-4f71-8c27-587a934a0cdb",
   "metadata": {},
   "outputs": [
    {
     "name": "stdout",
     "output_type": "stream",
     "text": [
      "One-Hot Encoded Data:\n",
      "    Embarked_Q  Embarked_S\n",
      "0       False        True\n",
      "1       False       False\n",
      "2       False        True\n",
      "3       False        True\n",
      "4       False        True\n"
     ]
    }
   ],
   "source": [
    "# Apply one-hot encoding\n",
    "data = pd.get_dummies(data, columns=['Embarked'], prefix='Embarked', drop_first=True)\n",
    "\n",
    "# Display the encoded columns\n",
    "print(\"One-Hot Encoded Data:\\n\", data[['Embarked_Q', 'Embarked_S']].head())"
   ]
  },
  {
   "cell_type": "markdown",
   "id": "0378f51c-520d-4ed6-b6b1-42a9ad4946f6",
   "metadata": {},
   "source": [
    "## 1.2 Label Encoding"
   ]
  },
  {
   "cell_type": "markdown",
   "id": "734b105f-badd-4d38-aa96-73585df06714",
   "metadata": {},
   "source": [
    "**Definition**: Label encoding is a method used to convert categorical values into numerical values by assigning a unique integer to each category. It is suitable for ordinal features where the categories have a meaningful order (e.g., \"Low,\" \"Medium,\" \"High\").\n",
    "\n",
    "**How it works**:\n",
    "\n",
    "- Each category is replaced by an integer starting from 0, based on the order in the dataset or alphabetical order.\n",
    "\n",
    "- Label encoding is not recommended for nominal (unordered) categorical features because it introduces an arbitrary ordinal relationship."
   ]
  },
  {
   "cell_type": "code",
   "execution_count": 113,
   "id": "6949d7f8-d816-4621-be5c-6be6231edd60",
   "metadata": {},
   "outputs": [
    {
     "name": "stdout",
     "output_type": "stream",
     "text": [
      "Label Encoded 'Sex' column:\n",
      "       Sex  Sex_label\n",
      "0    male          1\n",
      "1  female          0\n",
      "2  female          0\n",
      "3  female          0\n",
      "4    male          1\n"
     ]
    }
   ],
   "source": [
    "## label Encoding\n",
    "\n",
    "from sklearn.preprocessing import LabelEncoder\n",
    "\n",
    "label_encoder = LabelEncoder()\n",
    "\n",
    "data['Sex_label'] = label_encoder.fit_transform(data['Sex'])\n",
    "\n",
    "print(\"Label Encoded 'Sex' column:\\n\",data[['Sex','Sex_label']].head())"
   ]
  },
  {
   "cell_type": "markdown",
   "id": "ebb5d85e-a58b-4f3d-8d7b-329def0179b6",
   "metadata": {},
   "source": [
    "## 1.3 Ordinal Encoding"
   ]
  },
  {
   "cell_type": "markdown",
   "id": "551ebfd1-bd6c-45cf-8e32-00f7a0f84727",
   "metadata": {},
   "source": [
    "**Definition**: Ordinal encoding is a method of encoding categorical features that have an inherent order or ranking between categories. Unlike label encoding, ordinal encoding explicitly preserves the order of categories.\n",
    "\n",
    "**How it works**:\n",
    "\n",
    "- Categories are manually assigned integers based on their order.\n",
    "\n",
    "- This method is ideal for ordinal data where the order matters (e.g., \"Low,\" \"Medium,\" \"High\")."
   ]
  },
  {
   "cell_type": "code",
   "execution_count": 114,
   "id": "e9c70d9f-0edd-482a-98ac-e5cf7b2861e0",
   "metadata": {},
   "outputs": [
    {
     "name": "stdout",
     "output_type": "stream",
     "text": [
      "Ordinal Encoded 'Pclass':\n",
      "    Pclass  Pclass_Encoded\n",
      "0       3             2.0\n",
      "1       1             0.0\n",
      "2       3             2.0\n",
      "3       1             0.0\n",
      "4       3             2.0\n"
     ]
    }
   ],
   "source": [
    "from sklearn.preprocessing import OrdinalEncoder\n",
    "\n",
    "ordinal_encoder = OrdinalEncoder()\n",
    "\n",
    "data['Pclass_Encoded'] = ordinal_encoder.fit_transform(data[['Pclass']])\n",
    "\n",
    "print(\"Ordinal Encoded 'Pclass':\\n\",data[['Pclass','Pclass_Encoded']].head())"
   ]
  },
  {
   "cell_type": "markdown",
   "id": "3ac66615-90e8-491e-ab86-1a6c9230c2e0",
   "metadata": {},
   "source": [
    "## 1.4 Target Encoding"
   ]
  },
  {
   "cell_type": "markdown",
   "id": "38318df2-377e-4487-8247-110668690ab1",
   "metadata": {},
   "source": [
    "**Definition**: Target encoding (also known as mean encoding or likelihood encoding) involves encoding categorical features by replacing each category with the mean of the target variable for that category. This technique is particularly useful when the number of categories is high or when there is a strong relationship between the feature and the target variable.\n",
    "\n",
    "**How it works**:\n",
    "\n",
    "- For each category, calculate the mean of the target variable (the dependent variable).\n",
    "\n",
    "- Replace each category in the feature with its corresponding target mean.\n",
    "\n",
    "  \n",
    "**Example**: If we have a Category column and a Sales target column, target encoding would replace each category in Category with the mean Sales value for that category."
   ]
  },
  {
   "cell_type": "code",
   "execution_count": 1,
   "id": "6ae469b1-f891-47a9-adaa-eaa4bb837dd6",
   "metadata": {},
   "outputs": [
    {
     "data": {
      "text/html": [
       "<div>\n",
       "<style scoped>\n",
       "    .dataframe tbody tr th:only-of-type {\n",
       "        vertical-align: middle;\n",
       "    }\n",
       "\n",
       "    .dataframe tbody tr th {\n",
       "        vertical-align: top;\n",
       "    }\n",
       "\n",
       "    .dataframe thead th {\n",
       "        text-align: right;\n",
       "    }\n",
       "</style>\n",
       "<table border=\"1\" class=\"dataframe\">\n",
       "  <thead>\n",
       "    <tr style=\"text-align: right;\">\n",
       "      <th></th>\n",
       "      <th>Category</th>\n",
       "      <th>Sales</th>\n",
       "      <th>Category_encoded</th>\n",
       "    </tr>\n",
       "  </thead>\n",
       "  <tbody>\n",
       "    <tr>\n",
       "      <th>0</th>\n",
       "      <td>A</td>\n",
       "      <td>100</td>\n",
       "      <td>125.0</td>\n",
       "    </tr>\n",
       "    <tr>\n",
       "      <th>1</th>\n",
       "      <td>B</td>\n",
       "      <td>200</td>\n",
       "      <td>225.0</td>\n",
       "    </tr>\n",
       "    <tr>\n",
       "      <th>2</th>\n",
       "      <td>A</td>\n",
       "      <td>150</td>\n",
       "      <td>125.0</td>\n",
       "    </tr>\n",
       "    <tr>\n",
       "      <th>3</th>\n",
       "      <td>C</td>\n",
       "      <td>300</td>\n",
       "      <td>300.0</td>\n",
       "    </tr>\n",
       "    <tr>\n",
       "      <th>4</th>\n",
       "      <td>B</td>\n",
       "      <td>250</td>\n",
       "      <td>225.0</td>\n",
       "    </tr>\n",
       "  </tbody>\n",
       "</table>\n",
       "</div>"
      ],
      "text/plain": [
       "  Category  Sales  Category_encoded\n",
       "0        A    100             125.0\n",
       "1        B    200             225.0\n",
       "2        A    150             125.0\n",
       "3        C    300             300.0\n",
       "4        B    250             225.0"
      ]
     },
     "execution_count": 1,
     "metadata": {},
     "output_type": "execute_result"
    }
   ],
   "source": [
    "import pandas as pd\n",
    "\n",
    "# Example Data\n",
    "data = pd.DataFrame({'Category': ['A', 'B', 'A', 'C', 'B'], 'Sales': [100, 200, 150, 300, 250]})\n",
    "\n",
    "# Target Encoding\n",
    "category_mean = data.groupby('Category')['Sales'].mean()\n",
    "data['Category_encoded'] = data['Category'].map(category_mean)\n",
    "data\n"
   ]
  },
  {
   "cell_type": "code",
   "execution_count": 115,
   "id": "7fc75e2d-abc4-43be-a986-254a9d3cc2a4",
   "metadata": {},
   "outputs": [
    {
     "name": "stdout",
     "output_type": "stream",
     "text": [
      "Frequency Encoded 'Cabin':\n",
      "   Cabin_Letter  Cabin_Frequency\n",
      "0            U              687\n",
      "1            C               59\n",
      "2            U              687\n",
      "3            C               59\n",
      "4            U              687\n"
     ]
    }
   ],
   "source": [
    "# Extract the first letter of 'Cabin' and replace NaN with 'U'\n",
    "data['Cabin_Letter'] = data['Cabin'].fillna('U').apply(lambda x: x[0])\n",
    "\n",
    "# Frequency Encoding\n",
    "cabin_counts = data['Cabin_Letter'].value_counts()\n",
    "\n",
    "data['Cabin_Frequency'] = data['Cabin_Letter'].map(cabin_counts)\n",
    "\n",
    "print(\"Frequency Encoded 'Cabin':\\n\", data[['Cabin_Letter', 'Cabin_Frequency']].head())"
   ]
  },
  {
   "cell_type": "markdown",
   "id": "54a96dc7-7d72-4647-a3ad-890f07bff9f7",
   "metadata": {},
   "source": [
    "- **One-Hot Encoding**: Use when the categorical feature is nominal (no inherent order between categories).\n",
    "\n",
    "- **Label Encoding**: Use when the categorical feature is ordinal (categories have a meaningful order but no defined intervals).\n",
    "\n",
    "- **Ordinal Encoding**: Use when the categorical feature has a clear order and ranking.\n",
    "\n",
    "- **Target Encoding**: Use when the categorical feature has a strong relationship with the target variable and is high cardinality."
   ]
  },
  {
   "cell_type": "markdown",
   "id": "24d96d2b-0cac-4188-a906-a60690640257",
   "metadata": {},
   "source": [
    "## 5. End of the Distribution imputation"
   ]
  },
  {
   "cell_type": "markdown",
   "id": "9ada7aa9-8a8a-4e65-a109-fd731896041c",
   "metadata": {},
   "source": [
    "- **End of the Distribution Imputation** is a technique used in feature engineering to handle missing values by replacing them with values from the extreme ends of the distribution (either the lower or upper tail).\n",
    "\n",
    "- This method is typically used when the missing data represents outliers or extreme values that are crucial for the model, but it must be applied carefully to avoid introducing bias."
   ]
  },
  {
   "cell_type": "markdown",
   "id": "395161d2-d5b8-4466-83cf-7705e1ec6b10",
   "metadata": {},
   "source": [
    "### How it works:\n",
    "\n",
    "1. **Lower Tail Imputation**: Missing values are replaced by the minimum or a low percentile (such as the 1st or 5th percentile) of the feature's distribution.\n",
    "\n",
    "2. **Upper Tail Imputation**: Missing values are replaced by the maximum or a high percentile (such as the 95th or 99th percentile) of the feature's distribution.\n",
    "\n",
    "### When to Use:\n",
    "\n",
    "- **Outliers**: If the feature has significant outliers or values at the extremes, imputation at the extremes may capture important information that might be lost with other imputation methods.\n",
    "\n",
    "- **Preserving Distribution**: When the distribution's shape or the extreme values themselves are important for the model, imputing with the end of the distribution can help maintain the data's overall structure."
   ]
  },
  {
   "attachments": {
    "5fb2c21e-e34f-4166-be75-9385cee5f915.png": {
     "image/png": "[encoded data removed]"
    }
   },
   "cell_type": "markdown",
   "id": "07417d88-79be-44ea-81e1-9337c66c42f4",
   "metadata": {},
   "source": [
    "![Math-imagesArtboard-1-copy-11-8.png](attachment:5fb2c21e-e34f-4166-be75-9385cee5f915.png)"
   ]
  },
  {
   "cell_type": "code",
   "execution_count": 116,
   "id": "72ce7763-44bb-4aa8-ae15-861565340c25",
   "metadata": {},
   "outputs": [
    {
     "data": {
      "text/html": [
       "<div>\n",
       "<style scoped>\n",
       "    .dataframe tbody tr th:only-of-type {\n",
       "        vertical-align: middle;\n",
       "    }\n",
       "\n",
       "    .dataframe tbody tr th {\n",
       "        vertical-align: top;\n",
       "    }\n",
       "\n",
       "    .dataframe thead th {\n",
       "        text-align: right;\n",
       "    }\n",
       "</style>\n",
       "<table border=\"1\" class=\"dataframe\">\n",
       "  <thead>\n",
       "    <tr style=\"text-align: right;\">\n",
       "      <th></th>\n",
       "      <th>Survived</th>\n",
       "      <th>Age</th>\n",
       "      <th>Fare</th>\n",
       "    </tr>\n",
       "  </thead>\n",
       "  <tbody>\n",
       "    <tr>\n",
       "      <th>0</th>\n",
       "      <td>0</td>\n",
       "      <td>22.0</td>\n",
       "      <td>7.2500</td>\n",
       "    </tr>\n",
       "    <tr>\n",
       "      <th>1</th>\n",
       "      <td>1</td>\n",
       "      <td>38.0</td>\n",
       "      <td>71.2833</td>\n",
       "    </tr>\n",
       "    <tr>\n",
       "      <th>2</th>\n",
       "      <td>1</td>\n",
       "      <td>26.0</td>\n",
       "      <td>7.9250</td>\n",
       "    </tr>\n",
       "    <tr>\n",
       "      <th>3</th>\n",
       "      <td>1</td>\n",
       "      <td>35.0</td>\n",
       "      <td>53.1000</td>\n",
       "    </tr>\n",
       "    <tr>\n",
       "      <th>4</th>\n",
       "      <td>0</td>\n",
       "      <td>35.0</td>\n",
       "      <td>8.0500</td>\n",
       "    </tr>\n",
       "  </tbody>\n",
       "</table>\n",
       "</div>"
      ],
      "text/plain": [
       "   Survived   Age     Fare\n",
       "0         0  22.0   7.2500\n",
       "1         1  38.0  71.2833\n",
       "2         1  26.0   7.9250\n",
       "3         1  35.0  53.1000\n",
       "4         0  35.0   8.0500"
      ]
     },
     "execution_count": 116,
     "metadata": {},
     "output_type": "execute_result"
    }
   ],
   "source": [
    "# End of the distribution imputation\n",
    "\n",
    "import pandas as pd\n",
    "data = pd.read_csv(r\"C:\\Users\\devad\\Downloads\\titanic.csv\", usecols = ['Age','Fare','Survived'])\n",
    "data.head()"
   ]
  },
  {
   "cell_type": "code",
   "execution_count": 117,
   "id": "d71418aa-8b0e-4004-bd47-dbe6ae750029",
   "metadata": {},
   "outputs": [
    {
     "data": {
      "text/plain": [
       "Survived      0\n",
       "Age         177\n",
       "Fare          0\n",
       "dtype: int64"
      ]
     },
     "execution_count": 117,
     "metadata": {},
     "output_type": "execute_result"
    }
   ],
   "source": [
    "data.isnull().sum()"
   ]
  },
  {
   "cell_type": "code",
   "execution_count": 118,
   "id": "d3ddc739-10a0-40a9-a61e-d6c896114eb2",
   "metadata": {},
   "outputs": [],
   "source": [
    "from sklearn.model_selection import train_test_split"
   ]
  },
  {
   "cell_type": "code",
   "execution_count": 119,
   "id": "582a33e8-0e6a-439b-8fbf-83e87ec1fc44",
   "metadata": {},
   "outputs": [],
   "source": [
    "x_train, x_test, y_train, y_test = train_test_split(data, data.Survived, test_size=0.3, random_state=0)"
   ]
  },
  {
   "cell_type": "code",
   "execution_count": 120,
   "id": "4b37da40-9d00-4673-a3de-526567f7ab4b",
   "metadata": {},
   "outputs": [
    {
     "data": {
      "text/plain": [
       "((623, 3), (268, 3))"
      ]
     },
     "execution_count": 120,
     "metadata": {},
     "output_type": "execute_result"
    }
   ],
   "source": [
    "x_train.shape, x_test.shape"
   ]
  },
  {
   "cell_type": "code",
   "execution_count": 121,
   "id": "d36d03d5-4afb-4a1b-a519-608e1a162f60",
   "metadata": {},
   "outputs": [
    {
     "data": {
      "text/plain": [
       "((623,), (268,))"
      ]
     },
     "execution_count": 121,
     "metadata": {},
     "output_type": "execute_result"
    }
   ],
   "source": [
    "y_train.shape, y_test.shape"
   ]
  },
  {
   "cell_type": "code",
   "execution_count": 122,
   "id": "65d52f74-a6c9-4da7-a056-6b262e6735a7",
   "metadata": {},
   "outputs": [
    {
     "data": {
      "text/plain": [
       "<Axes: >"
      ]
     },
     "execution_count": 122,
     "metadata": {},
     "output_type": "execute_result"
    },
    {
     "data": {
      "image/png": "[encoded data removed]",
      "text/plain": [
       "<Figure size 640x480 with 1 Axes>"
      ]
     },
     "metadata": {},
     "output_type": "display_data"
    }
   ],
   "source": [
    "x_train.Age.hist(bins=50)"
   ]
  },
  {
   "cell_type": "code",
   "execution_count": 123,
   "id": "9fa64399-968b-4b76-98c5-36b91f470d59",
   "metadata": {},
   "outputs": [
    {
     "data": {
      "text/plain": [
       "np.float64(29.915338645418327)"
      ]
     },
     "execution_count": 123,
     "metadata": {},
     "output_type": "execute_result"
    }
   ],
   "source": [
    "x_train.Age.mean()"
   ]
  },
  {
   "cell_type": "code",
   "execution_count": 124,
   "id": "b6ae8cd1-40ce-4d5b-8447-7c2bcd17d659",
   "metadata": {},
   "outputs": [
    {
     "data": {
      "text/plain": [
       "np.float64(14.506993804588454)"
      ]
     },
     "execution_count": 124,
     "metadata": {},
     "output_type": "execute_result"
    }
   ],
   "source": [
    "x_train.Age.std()"
   ]
  },
  {
   "cell_type": "code",
   "execution_count": 81,
   "id": "0dc8dacf-8ce1-4cef-8f76-26f54a68a808",
   "metadata": {},
   "outputs": [
    {
     "data": {
      "text/plain": [
       "np.float64(73.43632005918369)"
      ]
     },
     "execution_count": 81,
     "metadata": {},
     "output_type": "execute_result"
    }
   ],
   "source": [
    "# for end of the distributiom 3rd extream standard deviation\n",
    "\n",
    "x_train.Age.mean()+3*x_train.Age.std()"
   ]
  },
  {
   "cell_type": "markdown",
   "id": "6ef813ec-3c89-4fa9-92b3-594bea7f7219",
   "metadata": {},
   "source": [
    "## 6. Arbitary value Imputation"
   ]
  },
  {
   "cell_type": "markdown",
   "id": "637a046d-0877-43ac-92d9-999bfb72b655",
   "metadata": {},
   "source": [
    "- Arbitrary Value Imputation is a technique where missing values in a dataset are replaced with a predefined constant value, such as `-999`, `0`, or `\"Unknown\"`.\n",
    "\n",
    "- It is used to mark or placeholder missing data but can introduce bias if not carefully chosen. This method is simple but may not always be suitable for maintaining the integrity of the dataset."
   ]
  },
  {
   "cell_type": "code",
   "execution_count": 82,
   "id": "872f307a-d099-42a1-aa0d-70d7dd5eceb1",
   "metadata": {},
   "outputs": [
    {
     "data": {
      "text/html": [
       "<div>\n",
       "<style scoped>\n",
       "    .dataframe tbody tr th:only-of-type {\n",
       "        vertical-align: middle;\n",
       "    }\n",
       "\n",
       "    .dataframe tbody tr th {\n",
       "        vertical-align: top;\n",
       "    }\n",
       "\n",
       "    .dataframe thead th {\n",
       "        text-align: right;\n",
       "    }\n",
       "</style>\n",
       "<table border=\"1\" class=\"dataframe\">\n",
       "  <thead>\n",
       "    <tr style=\"text-align: right;\">\n",
       "      <th></th>\n",
       "      <th>Survived</th>\n",
       "      <th>Age</th>\n",
       "      <th>Fare</th>\n",
       "    </tr>\n",
       "  </thead>\n",
       "  <tbody>\n",
       "    <tr>\n",
       "      <th>0</th>\n",
       "      <td>0</td>\n",
       "      <td>22.0</td>\n",
       "      <td>7.2500</td>\n",
       "    </tr>\n",
       "    <tr>\n",
       "      <th>1</th>\n",
       "      <td>1</td>\n",
       "      <td>38.0</td>\n",
       "      <td>71.2833</td>\n",
       "    </tr>\n",
       "    <tr>\n",
       "      <th>2</th>\n",
       "      <td>1</td>\n",
       "      <td>26.0</td>\n",
       "      <td>7.9250</td>\n",
       "    </tr>\n",
       "    <tr>\n",
       "      <th>3</th>\n",
       "      <td>1</td>\n",
       "      <td>35.0</td>\n",
       "      <td>53.1000</td>\n",
       "    </tr>\n",
       "    <tr>\n",
       "      <th>4</th>\n",
       "      <td>0</td>\n",
       "      <td>35.0</td>\n",
       "      <td>8.0500</td>\n",
       "    </tr>\n",
       "  </tbody>\n",
       "</table>\n",
       "</div>"
      ],
      "text/plain": [
       "   Survived   Age     Fare\n",
       "0         0  22.0   7.2500\n",
       "1         1  38.0  71.2833\n",
       "2         1  26.0   7.9250\n",
       "3         1  35.0  53.1000\n",
       "4         0  35.0   8.0500"
      ]
     },
     "execution_count": 82,
     "metadata": {},
     "output_type": "execute_result"
    }
   ],
   "source": [
    "# Arbitary Value Imputation\n",
    "\n",
    "import pandas as pd\n",
    "data = pd.read_csv(r\"C:\\Users\\devad\\Downloads\\titanic.csv\", usecols = ['Age','Fare','Survived'])\n",
    "data.head()"
   ]
  },
  {
   "cell_type": "code",
   "execution_count": 83,
   "id": "7b40d574-c9b7-428f-8be8-37650249345f",
   "metadata": {},
   "outputs": [
    {
     "data": {
      "text/plain": [
       "Survived      0\n",
       "Age         177\n",
       "Fare          0\n",
       "dtype: int64"
      ]
     },
     "execution_count": 83,
     "metadata": {},
     "output_type": "execute_result"
    }
   ],
   "source": [
    "data.isnull().sum()"
   ]
  },
  {
   "cell_type": "code",
   "execution_count": 84,
   "id": "90d37317-dedb-4c3f-aab7-4e0b7ae65bea",
   "metadata": {},
   "outputs": [
    {
     "data": {
      "text/plain": [
       "np.float64(29.69911764705882)"
      ]
     },
     "execution_count": 84,
     "metadata": {},
     "output_type": "execute_result"
    }
   ],
   "source": [
    "data['Age'].mean()"
   ]
  },
  {
   "cell_type": "code",
   "execution_count": 85,
   "id": "4efc6fff-d1ef-4c1f-9238-3b6557db9468",
   "metadata": {},
   "outputs": [
    {
     "data": {
      "text/plain": [
       "((623, 3), (623,))"
      ]
     },
     "execution_count": 85,
     "metadata": {},
     "output_type": "execute_result"
    }
   ],
   "source": [
    "x_train,x_test,y_train,y_test=train_test_split(data, data.Survived, test_size = 0.3, random_state=0)\n",
    "x_train.shape, y_train.shape"
   ]
  },
  {
   "cell_type": "code",
   "execution_count": 86,
   "id": "20b314a5-5abc-43c2-8a9f-6530474156c1",
   "metadata": {},
   "outputs": [
    {
     "data": {
      "text/plain": [
       "((623,), (268,))"
      ]
     },
     "execution_count": 86,
     "metadata": {},
     "output_type": "execute_result"
    }
   ],
   "source": [
    "y_train.shape, y_test.shape"
   ]
  },
  {
   "cell_type": "code",
   "execution_count": 87,
   "id": "86fdd0b7-cdf8-4b15-bcaa-f929c2166099",
   "metadata": {},
   "outputs": [],
   "source": [
    "def impute_na(df, variable):\n",
    "    df[variable + '_Zero'] = df[variable].fillna(0)\n",
    "    df[variable + '_Hundred'] = df[variable].fillna(100)\n",
    "    df[variable + '_Five'] = df[variable].fillna(5)"
   ]
  },
  {
   "cell_type": "code",
   "execution_count": 88,
   "id": "af415ef3-0e95-416d-b944-f203c34845e7",
   "metadata": {},
   "outputs": [
    {
     "data": {
      "text/html": [
       "<div>\n",
       "<style scoped>\n",
       "    .dataframe tbody tr th:only-of-type {\n",
       "        vertical-align: middle;\n",
       "    }\n",
       "\n",
       "    .dataframe tbody tr th {\n",
       "        vertical-align: top;\n",
       "    }\n",
       "\n",
       "    .dataframe thead th {\n",
       "        text-align: right;\n",
       "    }\n",
       "</style>\n",
       "<table border=\"1\" class=\"dataframe\">\n",
       "  <thead>\n",
       "    <tr style=\"text-align: right;\">\n",
       "      <th></th>\n",
       "      <th>Survived</th>\n",
       "      <th>Age</th>\n",
       "      <th>Fare</th>\n",
       "      <th>Age_Zero</th>\n",
       "      <th>Age_Hundred</th>\n",
       "      <th>Age_Five</th>\n",
       "    </tr>\n",
       "  </thead>\n",
       "  <tbody>\n",
       "    <tr>\n",
       "      <th>857</th>\n",
       "      <td>1</td>\n",
       "      <td>51.0</td>\n",
       "      <td>26.5500</td>\n",
       "      <td>51.0</td>\n",
       "      <td>51.0</td>\n",
       "      <td>51.0</td>\n",
       "    </tr>\n",
       "    <tr>\n",
       "      <th>52</th>\n",
       "      <td>1</td>\n",
       "      <td>49.0</td>\n",
       "      <td>76.7292</td>\n",
       "      <td>49.0</td>\n",
       "      <td>49.0</td>\n",
       "      <td>49.0</td>\n",
       "    </tr>\n",
       "    <tr>\n",
       "      <th>386</th>\n",
       "      <td>0</td>\n",
       "      <td>1.0</td>\n",
       "      <td>46.9000</td>\n",
       "      <td>1.0</td>\n",
       "      <td>1.0</td>\n",
       "      <td>1.0</td>\n",
       "    </tr>\n",
       "    <tr>\n",
       "      <th>124</th>\n",
       "      <td>0</td>\n",
       "      <td>54.0</td>\n",
       "      <td>77.2875</td>\n",
       "      <td>54.0</td>\n",
       "      <td>54.0</td>\n",
       "      <td>54.0</td>\n",
       "    </tr>\n",
       "    <tr>\n",
       "      <th>578</th>\n",
       "      <td>0</td>\n",
       "      <td>NaN</td>\n",
       "      <td>14.4583</td>\n",
       "      <td>0.0</td>\n",
       "      <td>100.0</td>\n",
       "      <td>5.0</td>\n",
       "    </tr>\n",
       "    <tr>\n",
       "      <th>549</th>\n",
       "      <td>1</td>\n",
       "      <td>8.0</td>\n",
       "      <td>36.7500</td>\n",
       "      <td>8.0</td>\n",
       "      <td>8.0</td>\n",
       "      <td>8.0</td>\n",
       "    </tr>\n",
       "    <tr>\n",
       "      <th>118</th>\n",
       "      <td>0</td>\n",
       "      <td>24.0</td>\n",
       "      <td>247.5208</td>\n",
       "      <td>24.0</td>\n",
       "      <td>24.0</td>\n",
       "      <td>24.0</td>\n",
       "    </tr>\n",
       "    <tr>\n",
       "      <th>12</th>\n",
       "      <td>0</td>\n",
       "      <td>20.0</td>\n",
       "      <td>8.0500</td>\n",
       "      <td>20.0</td>\n",
       "      <td>20.0</td>\n",
       "      <td>20.0</td>\n",
       "    </tr>\n",
       "    <tr>\n",
       "      <th>157</th>\n",
       "      <td>0</td>\n",
       "      <td>30.0</td>\n",
       "      <td>8.0500</td>\n",
       "      <td>30.0</td>\n",
       "      <td>30.0</td>\n",
       "      <td>30.0</td>\n",
       "    </tr>\n",
       "    <tr>\n",
       "      <th>127</th>\n",
       "      <td>1</td>\n",
       "      <td>24.0</td>\n",
       "      <td>7.1417</td>\n",
       "      <td>24.0</td>\n",
       "      <td>24.0</td>\n",
       "      <td>24.0</td>\n",
       "    </tr>\n",
       "    <tr>\n",
       "      <th>653</th>\n",
       "      <td>1</td>\n",
       "      <td>NaN</td>\n",
       "      <td>7.8292</td>\n",
       "      <td>0.0</td>\n",
       "      <td>100.0</td>\n",
       "      <td>5.0</td>\n",
       "    </tr>\n",
       "    <tr>\n",
       "      <th>235</th>\n",
       "      <td>0</td>\n",
       "      <td>NaN</td>\n",
       "      <td>7.5500</td>\n",
       "      <td>0.0</td>\n",
       "      <td>100.0</td>\n",
       "      <td>5.0</td>\n",
       "    </tr>\n",
       "    <tr>\n",
       "      <th>785</th>\n",
       "      <td>0</td>\n",
       "      <td>25.0</td>\n",
       "      <td>7.2500</td>\n",
       "      <td>25.0</td>\n",
       "      <td>25.0</td>\n",
       "      <td>25.0</td>\n",
       "    </tr>\n",
       "    <tr>\n",
       "      <th>241</th>\n",
       "      <td>1</td>\n",
       "      <td>NaN</td>\n",
       "      <td>15.5000</td>\n",
       "      <td>0.0</td>\n",
       "      <td>100.0</td>\n",
       "      <td>5.0</td>\n",
       "    </tr>\n",
       "    <tr>\n",
       "      <th>351</th>\n",
       "      <td>0</td>\n",
       "      <td>NaN</td>\n",
       "      <td>35.0000</td>\n",
       "      <td>0.0</td>\n",
       "      <td>100.0</td>\n",
       "      <td>5.0</td>\n",
       "    </tr>\n",
       "    <tr>\n",
       "      <th>862</th>\n",
       "      <td>1</td>\n",
       "      <td>48.0</td>\n",
       "      <td>25.9292</td>\n",
       "      <td>48.0</td>\n",
       "      <td>48.0</td>\n",
       "      <td>48.0</td>\n",
       "    </tr>\n",
       "    <tr>\n",
       "      <th>851</th>\n",
       "      <td>0</td>\n",
       "      <td>74.0</td>\n",
       "      <td>7.7750</td>\n",
       "      <td>74.0</td>\n",
       "      <td>74.0</td>\n",
       "      <td>74.0</td>\n",
       "    </tr>\n",
       "    <tr>\n",
       "      <th>753</th>\n",
       "      <td>0</td>\n",
       "      <td>23.0</td>\n",
       "      <td>7.8958</td>\n",
       "      <td>23.0</td>\n",
       "      <td>23.0</td>\n",
       "      <td>23.0</td>\n",
       "    </tr>\n",
       "    <tr>\n",
       "      <th>532</th>\n",
       "      <td>0</td>\n",
       "      <td>17.0</td>\n",
       "      <td>7.2292</td>\n",
       "      <td>17.0</td>\n",
       "      <td>17.0</td>\n",
       "      <td>17.0</td>\n",
       "    </tr>\n",
       "    <tr>\n",
       "      <th>485</th>\n",
       "      <td>0</td>\n",
       "      <td>NaN</td>\n",
       "      <td>25.4667</td>\n",
       "      <td>0.0</td>\n",
       "      <td>100.0</td>\n",
       "      <td>5.0</td>\n",
       "    </tr>\n",
       "  </tbody>\n",
       "</table>\n",
       "</div>"
      ],
      "text/plain": [
       "     Survived   Age      Fare  Age_Zero  Age_Hundred  Age_Five\n",
       "857         1  51.0   26.5500      51.0         51.0      51.0\n",
       "52          1  49.0   76.7292      49.0         49.0      49.0\n",
       "386         0   1.0   46.9000       1.0          1.0       1.0\n",
       "124         0  54.0   77.2875      54.0         54.0      54.0\n",
       "578         0   NaN   14.4583       0.0        100.0       5.0\n",
       "549         1   8.0   36.7500       8.0          8.0       8.0\n",
       "118         0  24.0  247.5208      24.0         24.0      24.0\n",
       "12          0  20.0    8.0500      20.0         20.0      20.0\n",
       "157         0  30.0    8.0500      30.0         30.0      30.0\n",
       "127         1  24.0    7.1417      24.0         24.0      24.0\n",
       "653         1   NaN    7.8292       0.0        100.0       5.0\n",
       "235         0   NaN    7.5500       0.0        100.0       5.0\n",
       "785         0  25.0    7.2500      25.0         25.0      25.0\n",
       "241         1   NaN   15.5000       0.0        100.0       5.0\n",
       "351         0   NaN   35.0000       0.0        100.0       5.0\n",
       "862         1  48.0   25.9292      48.0         48.0      48.0\n",
       "851         0  74.0    7.7750      74.0         74.0      74.0\n",
       "753         0  23.0    7.8958      23.0         23.0      23.0\n",
       "532         0  17.0    7.2292      17.0         17.0      17.0\n",
       "485         0   NaN   25.4667       0.0        100.0       5.0"
      ]
     },
     "execution_count": 88,
     "metadata": {},
     "output_type": "execute_result"
    }
   ],
   "source": [
    "impute_na(x_train, 'Age')\n",
    "impute_na(x_test, 'Age')\n",
    "\n",
    "x_train.head(20)"
   ]
  },
  {
   "cell_type": "markdown",
   "id": "b3722870-d454-4261-adf9-ae0311f89308",
   "metadata": {},
   "source": [
    "## 7. Feature Scaling and Selection"
   ]
  },
  {
   "cell_type": "code",
   "execution_count": 89,
   "id": "1bd01af2-59ea-45d1-8268-14eefd62f182",
   "metadata": {},
   "outputs": [],
   "source": [
    "### Feature Selection or Scalling\n",
    "\n",
    "# 1. Normalization\n",
    "# 2. Standardization\n",
    "# 3. MinMax scalling\n"
   ]
  },
  {
   "cell_type": "markdown",
   "id": "9c1803b3-01e5-41b2-a289-472bcb970227",
   "metadata": {},
   "source": [
    "- Feature scaling and selection are techniques used to prepare data for machine learning models. Scaling ensures that the features are on the same scale, preventing some features from dominating others.\n",
    "  \n",
    "- Feature selection focuses on selecting the most relevant features for improving model performance."
   ]
  },
  {
   "cell_type": "markdown",
   "id": "7e58eabf-adcf-4450-877d-3beee69222e4",
   "metadata": {},
   "source": [
    "### 1.1 Normalization\n",
    "\n",
    "**Definition**: Normalization is a feature scaling technique where the values of a feature are rescaled to a range between 0 and 1. It is commonly used when the data has varying ranges and you want to bring them to a similar scale.\n",
    "\n",
    "**How it works**:\n",
    "\n",
    "- The formula for normalization is:\n",
    "\n",
    "  \n",
    "### Normalization Formula\n",
    "\n",
    "The **Normalization formula** can be written as:\n",
    "\n",
    "$$\n",
    "x_{\\text{normalized}} = \\frac{x - x_{\\text{min}}}{x_{\\text{max}} - x_{\\text{min}}}\n",
    "$$\n",
    "\n",
    "Where:\n",
    "- $ x $ is the original value of the feature.\n",
    "- $ x_{\\text{min}} $ is the minimum value of the feature in the dataset.\n",
    "- $ x_{\\text{max}} $ is the maximum value of the feature in the dataset.\n",
    "- $ x_{\\text{normalized}} $ is the normalized value, which will be between 0 and 1.\n",
    "\n",
    "This formula scales the data such that the smallest value of the feature becomes 0, and the largest value becomes 1, with all other values falling proportionally between 0 and 1.\n",
    "\n",
    "- Similar to normalization but explicitly applies to a specific range, typically [0, 1].\n",
    "​\n",
    "After normalization, the feature values will lie between 0 and 1.\n",
    "\n",
    "**When to use**:\n",
    "\n",
    "- When the features have different scales or units, and you want them to be comparable.\n",
    "It is commonly used in neural networks and models that require data within a specific range.specific range."
   ]
  },
  {
   "cell_type": "markdown",
   "id": "09234011-de76-4a06-b960-f7f26137052a",
   "metadata": {},
   "source": [
    "### 1.2 Standardization\n",
    "\n",
    "- **Definition**: Standardization (also called Z-score normalization) transforms the data so that it has a mean of 0 and a standard deviation of 1. Unlike normalization, standardization does not bound the values to a specific range.\n",
    "\n",
    "**How it works**:\n",
    "\n",
    "- The formula for standardization is:\n",
    "\n",
    "  \n",
    "### Standardization Formula\n",
    "\n",
    "The **Standardization formula** can be written as:\n",
    "\n",
    "$$\n",
    "x_{\\text{standardized}} = \\frac{x - \\mu}{\\sigma}\n",
    "$$\n",
    "\n",
    "Where:\n",
    "- $ x $ is the original value of the feature.\n",
    "- $ \\mu $ (mean) is the average value of the feature in the dataset.\n",
    "- $ \\sigma $ (standard deviation) is the standard deviation of the feature in the dataset.\n",
    "- $ x_{\\text{standardized}} $ is the standardized value, which will have a mean of 0 and a standard deviation of 1.\n",
    "\n",
    "This formula transforms the data so that it has a mean of 0 and a standard deviation of 1, without bounding the values to a specific range.\n",
    "​\n",
    " \n",
    "- The resulting values have a mean of 0 and a standard deviation of 1.\n",
    "  \n",
    "**When to use**:\n",
    "\n",
    "- When the data has a Gaussian (normal) distribution or when the model assumes that the data is centered and scaled (like linear regression, logistic regression, and SVM)."
   ]
  },
  {
   "cell_type": "code",
   "execution_count": 125,
   "id": "e2eb893b-daae-4088-b27c-b49d3ea7b3f2",
   "metadata": {},
   "outputs": [],
   "source": [
    "# Standardisation\n",
    "\n",
    "import pandas as pd\n",
    "import numpy as np\n",
    "\n",
    "from sklearn.preprocessing import StandardScaler\n",
    "from sklearn.metrics import roc_auc_score\n",
    "from sklearn.model_selection import train_test_split\n",
    "\n",
    "import matplotlib.pyplot as plt\n",
    "%matplotlib inline"
   ]
  },
  {
   "cell_type": "code",
   "execution_count": 126,
   "id": "8bd937e8-dc58-4806-ab2b-ea302e068f1f",
   "metadata": {},
   "outputs": [
    {
     "data": {
      "text/html": [
       "<div>\n",
       "<style scoped>\n",
       "    .dataframe tbody tr th:only-of-type {\n",
       "        vertical-align: middle;\n",
       "    }\n",
       "\n",
       "    .dataframe tbody tr th {\n",
       "        vertical-align: top;\n",
       "    }\n",
       "\n",
       "    .dataframe thead th {\n",
       "        text-align: right;\n",
       "    }\n",
       "</style>\n",
       "<table border=\"1\" class=\"dataframe\">\n",
       "  <thead>\n",
       "    <tr style=\"text-align: right;\">\n",
       "      <th></th>\n",
       "      <th>Survived</th>\n",
       "      <th>Pclass</th>\n",
       "      <th>Age</th>\n",
       "      <th>Fare</th>\n",
       "    </tr>\n",
       "  </thead>\n",
       "  <tbody>\n",
       "    <tr>\n",
       "      <th>0</th>\n",
       "      <td>0</td>\n",
       "      <td>3</td>\n",
       "      <td>22.0</td>\n",
       "      <td>7.2500</td>\n",
       "    </tr>\n",
       "    <tr>\n",
       "      <th>1</th>\n",
       "      <td>1</td>\n",
       "      <td>1</td>\n",
       "      <td>38.0</td>\n",
       "      <td>71.2833</td>\n",
       "    </tr>\n",
       "    <tr>\n",
       "      <th>2</th>\n",
       "      <td>1</td>\n",
       "      <td>3</td>\n",
       "      <td>26.0</td>\n",
       "      <td>7.9250</td>\n",
       "    </tr>\n",
       "    <tr>\n",
       "      <th>3</th>\n",
       "      <td>1</td>\n",
       "      <td>1</td>\n",
       "      <td>35.0</td>\n",
       "      <td>53.1000</td>\n",
       "    </tr>\n",
       "    <tr>\n",
       "      <th>4</th>\n",
       "      <td>0</td>\n",
       "      <td>3</td>\n",
       "      <td>35.0</td>\n",
       "      <td>8.0500</td>\n",
       "    </tr>\n",
       "  </tbody>\n",
       "</table>\n",
       "</div>"
      ],
      "text/plain": [
       "   Survived  Pclass   Age     Fare\n",
       "0         0       3  22.0   7.2500\n",
       "1         1       1  38.0  71.2833\n",
       "2         1       3  26.0   7.9250\n",
       "3         1       1  35.0  53.1000\n",
       "4         0       3  35.0   8.0500"
      ]
     },
     "execution_count": 126,
     "metadata": {},
     "output_type": "execute_result"
    }
   ],
   "source": [
    "data = pd.read_csv(r\"C:\\Users\\devad\\Downloads\\titanic.csv\", usecols = ['Survived','Pclass','Age','Fare'])\n",
    "data.head()"
   ]
  },
  {
   "cell_type": "code",
   "execution_count": 127,
   "id": "61d75596-7f58-4d7a-a28a-0ff8a8c027ba",
   "metadata": {},
   "outputs": [
    {
     "data": {
      "text/html": [
       "<div>\n",
       "<style scoped>\n",
       "    .dataframe tbody tr th:only-of-type {\n",
       "        vertical-align: middle;\n",
       "    }\n",
       "\n",
       "    .dataframe tbody tr th {\n",
       "        vertical-align: top;\n",
       "    }\n",
       "\n",
       "    .dataframe thead th {\n",
       "        text-align: right;\n",
       "    }\n",
       "</style>\n",
       "<table border=\"1\" class=\"dataframe\">\n",
       "  <thead>\n",
       "    <tr style=\"text-align: right;\">\n",
       "      <th></th>\n",
       "      <th>Survived</th>\n",
       "      <th>Pclass</th>\n",
       "      <th>Age</th>\n",
       "      <th>Fare</th>\n",
       "    </tr>\n",
       "  </thead>\n",
       "  <tbody>\n",
       "    <tr>\n",
       "      <th>count</th>\n",
       "      <td>891.000000</td>\n",
       "      <td>891.000000</td>\n",
       "      <td>714.000000</td>\n",
       "      <td>891.000000</td>\n",
       "    </tr>\n",
       "    <tr>\n",
       "      <th>mean</th>\n",
       "      <td>0.383838</td>\n",
       "      <td>2.308642</td>\n",
       "      <td>29.699118</td>\n",
       "      <td>32.204208</td>\n",
       "    </tr>\n",
       "    <tr>\n",
       "      <th>std</th>\n",
       "      <td>0.486592</td>\n",
       "      <td>0.836071</td>\n",
       "      <td>14.526497</td>\n",
       "      <td>49.693429</td>\n",
       "    </tr>\n",
       "    <tr>\n",
       "      <th>min</th>\n",
       "      <td>0.000000</td>\n",
       "      <td>1.000000</td>\n",
       "      <td>0.420000</td>\n",
       "      <td>0.000000</td>\n",
       "    </tr>\n",
       "    <tr>\n",
       "      <th>25%</th>\n",
       "      <td>0.000000</td>\n",
       "      <td>2.000000</td>\n",
       "      <td>20.125000</td>\n",
       "      <td>7.910400</td>\n",
       "    </tr>\n",
       "    <tr>\n",
       "      <th>50%</th>\n",
       "      <td>0.000000</td>\n",
       "      <td>3.000000</td>\n",
       "      <td>28.000000</td>\n",
       "      <td>14.454200</td>\n",
       "    </tr>\n",
       "    <tr>\n",
       "      <th>75%</th>\n",
       "      <td>1.000000</td>\n",
       "      <td>3.000000</td>\n",
       "      <td>38.000000</td>\n",
       "      <td>31.000000</td>\n",
       "    </tr>\n",
       "    <tr>\n",
       "      <th>max</th>\n",
       "      <td>1.000000</td>\n",
       "      <td>3.000000</td>\n",
       "      <td>80.000000</td>\n",
       "      <td>512.329200</td>\n",
       "    </tr>\n",
       "  </tbody>\n",
       "</table>\n",
       "</div>"
      ],
      "text/plain": [
       "         Survived      Pclass         Age        Fare\n",
       "count  891.000000  891.000000  714.000000  891.000000\n",
       "mean     0.383838    2.308642   29.699118   32.204208\n",
       "std      0.486592    0.836071   14.526497   49.693429\n",
       "min      0.000000    1.000000    0.420000    0.000000\n",
       "25%      0.000000    2.000000   20.125000    7.910400\n",
       "50%      0.000000    3.000000   28.000000   14.454200\n",
       "75%      1.000000    3.000000   38.000000   31.000000\n",
       "max      1.000000    3.000000   80.000000  512.329200"
      ]
     },
     "execution_count": 127,
     "metadata": {},
     "output_type": "execute_result"
    }
   ],
   "source": [
    "data.describe()"
   ]
  },
  {
   "cell_type": "code",
   "execution_count": 128,
   "id": "f869cda0-f2cb-4cbe-95b9-7368055d230a",
   "metadata": {},
   "outputs": [
    {
     "data": {
      "text/plain": [
       "Survived      0\n",
       "Pclass        0\n",
       "Age         177\n",
       "Fare          0\n",
       "dtype: int64"
      ]
     },
     "execution_count": 128,
     "metadata": {},
     "output_type": "execute_result"
    }
   ],
   "source": [
    "data.isnull().sum()"
   ]
  },
  {
   "cell_type": "code",
   "execution_count": 129,
   "id": "7cc3877c-7f2a-4034-b34d-25a8b1d98046",
   "metadata": {},
   "outputs": [
    {
     "data": {
      "text/plain": [
       "((623, 4), (268, 4))"
      ]
     },
     "execution_count": 129,
     "metadata": {},
     "output_type": "execute_result"
    }
   ],
   "source": [
    "x_train,x_test,y_train,y_test=train_test_split(data,data.Survived,test_size=0.3,random_state=0)\n",
    "x_train.shape, x_test.shape"
   ]
  },
  {
   "cell_type": "code",
   "execution_count": 130,
   "id": "44933419-7fbc-45bf-9531-a87c8a93e419",
   "metadata": {},
   "outputs": [
    {
     "data": {
      "text/plain": [
       "((623,), (268,))"
      ]
     },
     "execution_count": 130,
     "metadata": {},
     "output_type": "execute_result"
    }
   ],
   "source": [
    "y_train.shape, y_test.shape"
   ]
  },
  {
   "cell_type": "code",
   "execution_count": 131,
   "id": "1c02bffb-f250-460d-96c7-2f820bab8bac",
   "metadata": {},
   "outputs": [
    {
     "data": {
      "text/plain": [
       "495    29.0\n",
       "648    29.0\n",
       "278     7.0\n",
       "31     29.0\n",
       "255    29.0\n",
       "       ... \n",
       "263    40.0\n",
       "718    29.0\n",
       "620    27.0\n",
       "786    18.0\n",
       "64     29.0\n",
       "Name: Age, Length: 268, dtype: float64"
      ]
     },
     "execution_count": 131,
     "metadata": {},
     "output_type": "execute_result"
    }
   ],
   "source": [
    "x_train.Age.fillna(x_train.Age.median())\n",
    "x_test.Age.fillna(x_train.Age.median())"
   ]
  },
  {
   "cell_type": "code",
   "execution_count": 97,
   "id": "a3647e2d-4bae-41bb-8115-9ca7871bd0ed",
   "metadata": {},
   "outputs": [],
   "source": [
    "scaler = StandardScaler()\n",
    "x_train_scaled = scaler.fit_transform(x_train)\n",
    "x_test_scaled = scaler.transform(x_test)"
   ]
  },
  {
   "cell_type": "code",
   "execution_count": 133,
   "id": "416820bf-0d55-4134-9e3b-bac371396bdd",
   "metadata": {},
   "outputs": [
    {
     "name": "stdout",
     "output_type": "stream",
     "text": [
      "mean (Pclass, Age and Fare): [6.27284919e-17 4.98976640e-17            nan 5.41746067e-17]\n",
      "std (Pclass, Age and Fare): [ 1.  1. nan  1.]\n"
     ]
    }
   ],
   "source": [
    "print('mean (Pclass, Age and Fare):', x_train_scaled.mean(axis=0))\n",
    "print('std (Pclass, Age and Fare):', x_train_scaled.std(axis=0))"
   ]
  },
  {
   "cell_type": "markdown",
   "id": "ea210357-0d59-4668-94cb-e82fc28d77d3",
   "metadata": {},
   "source": [
    "### 1.3 MinMax Scalling\n",
    "\n",
    "**Definition**: Min-Max scaling is a feature scaling technique that transforms the data into a specific range, usually between 0 and 1, by using the minimum and maximum values of the feature.\n",
    "\n",
    "**How it works**:\n",
    "\n",
    "- The formula for Min-Max scaling is:\n",
    "\n",
    "### Min-Max Scaling Formula\n",
    "\n",
    "The **Min-Max scaling formula** can be written as:\n",
    "\n",
    "$$\n",
    "x_{\\text{scaled}} = \\frac{x - x_{\\text{min}}}{x_{\\text{max}} - x_{\\text{min}}}\n",
    "$$\n",
    "\n",
    "Where:\n",
    "- $ x $ is the original value of the feature.\n",
    "- $ x_{\\text{min}} $ is the minimum value of the feature in the dataset.\n",
    "- $ x_{\\text{max}} $ is the maximum value of the feature in the dataset.\n",
    "- $ x_{\\text{scaled}} $ is the scaled value, which is typically between 0 and 1.\n",
    "\n",
    "This formula transforms the data by scaling it into a specified range, usually between 0 and 1, where the smallest value becomes 0 and the largest value becomes 1, with all other values falling proportionally in between.\n",
    "\n",
    "\n",
    "\n",
    "- Similar to normalization but explicitly applies to a specific range, typically [0, 1].\n",
    "\n",
    "**When to use**:\n",
    "\n",
    "- When you need the data to lie in a specific range, often used for algorithms that are sensitive to the range of input features, like neural networks and distance-based models."
   ]
  },
  {
   "cell_type": "code",
   "execution_count": 99,
   "id": "02fcb365-5e55-4c2a-bfae-4250ca443083",
   "metadata": {},
   "outputs": [
    {
     "data": {
      "text/html": [
       "<div>\n",
       "<style scoped>\n",
       "    .dataframe tbody tr th:only-of-type {\n",
       "        vertical-align: middle;\n",
       "    }\n",
       "\n",
       "    .dataframe tbody tr th {\n",
       "        vertical-align: top;\n",
       "    }\n",
       "\n",
       "    .dataframe thead th {\n",
       "        text-align: right;\n",
       "    }\n",
       "</style>\n",
       "<table border=\"1\" class=\"dataframe\">\n",
       "  <thead>\n",
       "    <tr style=\"text-align: right;\">\n",
       "      <th></th>\n",
       "      <th>Survived</th>\n",
       "      <th>Pclass</th>\n",
       "      <th>Age</th>\n",
       "      <th>Fare</th>\n",
       "    </tr>\n",
       "  </thead>\n",
       "  <tbody>\n",
       "    <tr>\n",
       "      <th>0</th>\n",
       "      <td>0.0</td>\n",
       "      <td>1.0</td>\n",
       "      <td>0.271174</td>\n",
       "      <td>0.014151</td>\n",
       "    </tr>\n",
       "    <tr>\n",
       "      <th>1</th>\n",
       "      <td>1.0</td>\n",
       "      <td>0.0</td>\n",
       "      <td>0.472229</td>\n",
       "      <td>0.139136</td>\n",
       "    </tr>\n",
       "    <tr>\n",
       "      <th>2</th>\n",
       "      <td>1.0</td>\n",
       "      <td>1.0</td>\n",
       "      <td>0.321438</td>\n",
       "      <td>0.015469</td>\n",
       "    </tr>\n",
       "    <tr>\n",
       "      <th>3</th>\n",
       "      <td>1.0</td>\n",
       "      <td>0.0</td>\n",
       "      <td>0.434531</td>\n",
       "      <td>0.103644</td>\n",
       "    </tr>\n",
       "    <tr>\n",
       "      <th>4</th>\n",
       "      <td>0.0</td>\n",
       "      <td>1.0</td>\n",
       "      <td>0.434531</td>\n",
       "      <td>0.015713</td>\n",
       "    </tr>\n",
       "    <tr>\n",
       "      <th>5</th>\n",
       "      <td>0.0</td>\n",
       "      <td>1.0</td>\n",
       "      <td>NaN</td>\n",
       "      <td>0.016510</td>\n",
       "    </tr>\n",
       "    <tr>\n",
       "      <th>6</th>\n",
       "      <td>0.0</td>\n",
       "      <td>0.0</td>\n",
       "      <td>0.673285</td>\n",
       "      <td>0.101229</td>\n",
       "    </tr>\n",
       "    <tr>\n",
       "      <th>7</th>\n",
       "      <td>0.0</td>\n",
       "      <td>1.0</td>\n",
       "      <td>0.019854</td>\n",
       "      <td>0.041136</td>\n",
       "    </tr>\n",
       "    <tr>\n",
       "      <th>8</th>\n",
       "      <td>1.0</td>\n",
       "      <td>1.0</td>\n",
       "      <td>0.334004</td>\n",
       "      <td>0.021731</td>\n",
       "    </tr>\n",
       "    <tr>\n",
       "      <th>9</th>\n",
       "      <td>1.0</td>\n",
       "      <td>0.5</td>\n",
       "      <td>0.170646</td>\n",
       "      <td>0.058694</td>\n",
       "    </tr>\n",
       "    <tr>\n",
       "      <th>10</th>\n",
       "      <td>1.0</td>\n",
       "      <td>1.0</td>\n",
       "      <td>0.044986</td>\n",
       "      <td>0.032596</td>\n",
       "    </tr>\n",
       "    <tr>\n",
       "      <th>11</th>\n",
       "      <td>1.0</td>\n",
       "      <td>0.0</td>\n",
       "      <td>0.723549</td>\n",
       "      <td>0.051822</td>\n",
       "    </tr>\n",
       "    <tr>\n",
       "      <th>12</th>\n",
       "      <td>0.0</td>\n",
       "      <td>1.0</td>\n",
       "      <td>0.246042</td>\n",
       "      <td>0.015713</td>\n",
       "    </tr>\n",
       "    <tr>\n",
       "      <th>13</th>\n",
       "      <td>0.0</td>\n",
       "      <td>1.0</td>\n",
       "      <td>0.484795</td>\n",
       "      <td>0.061045</td>\n",
       "    </tr>\n",
       "    <tr>\n",
       "      <th>14</th>\n",
       "      <td>0.0</td>\n",
       "      <td>1.0</td>\n",
       "      <td>0.170646</td>\n",
       "      <td>0.015330</td>\n",
       "    </tr>\n",
       "    <tr>\n",
       "      <th>15</th>\n",
       "      <td>1.0</td>\n",
       "      <td>0.5</td>\n",
       "      <td>0.685851</td>\n",
       "      <td>0.031230</td>\n",
       "    </tr>\n",
       "    <tr>\n",
       "      <th>16</th>\n",
       "      <td>0.0</td>\n",
       "      <td>1.0</td>\n",
       "      <td>0.019854</td>\n",
       "      <td>0.056848</td>\n",
       "    </tr>\n",
       "    <tr>\n",
       "      <th>17</th>\n",
       "      <td>1.0</td>\n",
       "      <td>0.5</td>\n",
       "      <td>NaN</td>\n",
       "      <td>0.025374</td>\n",
       "    </tr>\n",
       "    <tr>\n",
       "      <th>18</th>\n",
       "      <td>0.0</td>\n",
       "      <td>1.0</td>\n",
       "      <td>0.384267</td>\n",
       "      <td>0.035134</td>\n",
       "    </tr>\n",
       "    <tr>\n",
       "      <th>19</th>\n",
       "      <td>1.0</td>\n",
       "      <td>1.0</td>\n",
       "      <td>NaN</td>\n",
       "      <td>0.014102</td>\n",
       "    </tr>\n",
       "  </tbody>\n",
       "</table>\n",
       "</div>"
      ],
      "text/plain": [
       "    Survived  Pclass       Age      Fare\n",
       "0        0.0     1.0  0.271174  0.014151\n",
       "1        1.0     0.0  0.472229  0.139136\n",
       "2        1.0     1.0  0.321438  0.015469\n",
       "3        1.0     0.0  0.434531  0.103644\n",
       "4        0.0     1.0  0.434531  0.015713\n",
       "5        0.0     1.0       NaN  0.016510\n",
       "6        0.0     0.0  0.673285  0.101229\n",
       "7        0.0     1.0  0.019854  0.041136\n",
       "8        1.0     1.0  0.334004  0.021731\n",
       "9        1.0     0.5  0.170646  0.058694\n",
       "10       1.0     1.0  0.044986  0.032596\n",
       "11       1.0     0.0  0.723549  0.051822\n",
       "12       0.0     1.0  0.246042  0.015713\n",
       "13       0.0     1.0  0.484795  0.061045\n",
       "14       0.0     1.0  0.170646  0.015330\n",
       "15       1.0     0.5  0.685851  0.031230\n",
       "16       0.0     1.0  0.019854  0.056848\n",
       "17       1.0     0.5       NaN  0.025374\n",
       "18       0.0     1.0  0.384267  0.035134\n",
       "19       1.0     1.0       NaN  0.014102"
      ]
     },
     "execution_count": 99,
     "metadata": {},
     "output_type": "execute_result"
    }
   ],
   "source": [
    "# MinMax Scalling\n",
    "\n",
    "from sklearn.preprocessing import MinMaxScaler\n",
    "\n",
    "scaler = MinMaxScaler()\n",
    "\n",
    "scaled_data = scaler.fit_transform(data)\n",
    "\n",
    "scaled_df = pd.DataFrame(scaled_data, columns=data.columns)\n",
    "\n",
    "scaled_df.head(20)"
   ]
  }
 ],
 "metadata": {
  "kernelspec": {
   "display_name": "Python 3 (ipykernel)",
   "language": "python",
   "name": "python3"
  },
  "language_info": {
   "codemirror_mode": {
    "name": "ipython",
    "version": 3
   },
   "file_extension": ".py",
   "mimetype": "text/x-python",
   "name": "python",
   "nbconvert_exporter": "python",
   "pygments_lexer": "ipython3",
   "version": "3.12.4"
  }
 },
 "nbformat": 4,
 "nbformat_minor": 5
}
